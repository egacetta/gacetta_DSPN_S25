{
  "cells": [
    {
      "cell_type": "markdown",
      "metadata": {
        "id": "-2W919d2ZXp7"
      },
      "source": [
        "# Exercise 15: Power analyses"
      ]
    },
    {
      "cell_type": "markdown",
      "metadata": {
        "id": "L4nOzVhyZXqK"
      },
      "source": [
        "This  assignment is designed to give you practice with Monte Carlo methods to conduct power analyses via simulation. You won't need to load in any data for this homework. We will, however, be using parts of the homework from last week."
      ]
    },
    {
      "cell_type": "markdown",
      "metadata": {
        "id": "9DsyBTB6ZXqN"
      },
      "source": [
        "---\n",
        "## 1. Simulating data (1 points)\n"
      ]
    },
    {
      "cell_type": "markdown",
      "metadata": {
        "id": "J1f6MywYhyzN"
      },
      "source": [
        "Pull your `simulate_data()` function from your last homework and add it below.\n",
        "\n",
        "As a reminder, this function simulates the relationship between age, word reading experience, and reading comprehension skill.\n",
        "\n",
        "`c` is reading comprehension, and `x` is word reading experience."
      ]
    },
    {
      "cell_type": "code",
      "execution_count": 2,
      "metadata": {
        "id": "UnBVazYfZXqP",
        "vscode": {
          "languageId": "r"
        },
        "colab": {
          "base_uri": "https://localhost:8080/",
          "height": 286
        },
        "outputId": "2d1a393b-127d-46dd-bb88-0a06b6721739"
      },
      "outputs": [
        {
          "output_type": "display_data",
          "data": {
            "text/html": [
              "<table class=\"dataframe\">\n",
              "<caption>A data.frame: 6 × 3</caption>\n",
              "<thead>\n",
              "\t<tr><th></th><th scope=col>age</th><th scope=col>x</th><th scope=col>c</th></tr>\n",
              "\t<tr><th></th><th scope=col>&lt;dbl&gt;</th><th scope=col>&lt;dbl&gt;</th><th scope=col>&lt;dbl&gt;</th></tr>\n",
              "</thead>\n",
              "<tbody>\n",
              "\t<tr><th scope=row>1</th><td>114.50930</td><td> 64.92058</td><td>168.56524</td></tr>\n",
              "\t<tr><th scope=row>2</th><td>174.59662</td><td> 80.87097</td><td>215.04588</td></tr>\n",
              "\t<tr><th scope=row>3</th><td>129.07723</td><td> 57.39509</td><td>141.49900</td></tr>\n",
              "\t<tr><th scope=row>4</th><td>185.96209</td><td>156.41116</td><td> 73.05766</td></tr>\n",
              "\t<tr><th scope=row>5</th><td>192.85607</td><td> 80.13949</td><td>154.13139</td></tr>\n",
              "\t<tr><th scope=row>6</th><td> 85.46678</td><td>113.55692</td><td> 54.53982</td></tr>\n",
              "</tbody>\n",
              "</table>\n"
            ],
            "text/markdown": "\nA data.frame: 6 × 3\n\n| <!--/--> | age &lt;dbl&gt; | x &lt;dbl&gt; | c &lt;dbl&gt; |\n|---|---|---|---|\n| 1 | 114.50930 |  64.92058 | 168.56524 |\n| 2 | 174.59662 |  80.87097 | 215.04588 |\n| 3 | 129.07723 |  57.39509 | 141.49900 |\n| 4 | 185.96209 | 156.41116 |  73.05766 |\n| 5 | 192.85607 |  80.13949 | 154.13139 |\n| 6 |  85.46678 | 113.55692 |  54.53982 |\n\n",
            "text/latex": "A data.frame: 6 × 3\n\\begin{tabular}{r|lll}\n  & age & x & c\\\\\n  & <dbl> & <dbl> & <dbl>\\\\\n\\hline\n\t1 & 114.50930 &  64.92058 & 168.56524\\\\\n\t2 & 174.59662 &  80.87097 & 215.04588\\\\\n\t3 & 129.07723 &  57.39509 & 141.49900\\\\\n\t4 & 185.96209 & 156.41116 &  73.05766\\\\\n\t5 & 192.85607 &  80.13949 & 154.13139\\\\\n\t6 &  85.46678 & 113.55692 &  54.53982\\\\\n\\end{tabular}\n",
            "text/plain": [
              "  age       x         c        \n",
              "1 114.50930  64.92058 168.56524\n",
              "2 174.59662  80.87097 215.04588\n",
              "3 129.07723  57.39509 141.49900\n",
              "4 185.96209 156.41116  73.05766\n",
              "5 192.85607  80.13949 154.13139\n",
              "6  85.46678 113.55692  54.53982"
            ]
          },
          "metadata": {}
        }
      ],
      "source": [
        "sample_size = 100 # How many children in data set?\n",
        "age_lo = 80     # minimum age, in months\n",
        "age_hi = 200    # maximum age, in months\n",
        "beta_xa = 0.5   # amount by which experience changes for increase of one month in age\n",
        "beta_x0 = -5    # amount of experience when age = 0 (not interpretable, since minimum age for this data is 80 months)\n",
        "sd_x = 50       # standard dev of gaussian noise term, epsilon_x\n",
        "beta_ca = 0.8   # amount that comprehension score improves for every increase of one unit in age\n",
        "beta_cx = 3     # amount that comprehension score improves for every increase of one unit in reading experience\n",
        "beta_c0 = 10    # comprehension score when reading experience is 0.\n",
        "sd_c = 85      # standard dev of gaussian noise term, epsilon_c\n",
        "set.seed(123)\n",
        "simulate_data <- function(sample_size, age_lo, age_hi, beta_xa, beta_x0, sd_x, beta_ca, beta_cx, beta_c0, sd_c) {\n",
        "                            age = runif(sample_size, age_lo, age_hi)\n",
        "                            epsilon_x = rnorm(sample_size, 0, sd = sd_x)\n",
        "                            x = age*beta_xa+ beta_x0 +epsilon_x\n",
        "\n",
        "                            epsilon_c = rnorm(sample_size, 0, sd = sd_c)\n",
        "                            c = age*beta_ca + beta_c0 + epsilon_c\n",
        "\n",
        "                            data.frame(age = age, x = x, c = c)\n",
        "      return(data.frame(age=age,x=x,c=c)) # it's actually bad form to have a variable named \"c\" in R, my bad...\n",
        "}\n",
        "\n",
        "dat <- simulate_data(sample_size, age_lo, age_hi, beta_xa, beta_x0, sd_x, beta_ca, beta_cx, beta_c0, sd_c)\n",
        "head(dat)"
      ]
    },
    {
      "cell_type": "markdown",
      "metadata": {
        "id": "T3b3_KsHk-xD"
      },
      "source": [
        "---\n",
        "## 2. `run_analysis()` function (2 pts)"
      ]
    },
    {
      "cell_type": "markdown",
      "metadata": {
        "id": "TJyPIaTO8zCS"
      },
      "source": [
        "Last week, we looked at whether word reading experience(`x`) mediated the relation between `age` and reading comprehension (`c`).\n",
        "\n",
        "Now we're going to use our `simulate_data()` function to conduct a power analysis. The goal is to determine how many participants we would need in order to detect both the mediated and the direct effects in this data.\n",
        "\n",
        "*Note: We're going to pretend for the sake of simplicity that we don't have any control over the ages of the children we get (so ages are generated using `runif(sample_size, age_lo, age_hi)`, although of course this would be an unusual situation in reality.*\n",
        "\n",
        "First, write a function, `run_analysis()`, that takes in simulated data, runs **your mediation from last week**, and returns a vector containing the ACME and ADE estimates and p-values (these are the `d0`, `d0.p`, `z0`, and `z0.p` features of the mediated model object, e.g., `fitMed$d0.p`). Print this function's output for the data we simulated previously."
      ]
    },
    {
      "cell_type": "code",
      "execution_count": 4,
      "metadata": {
        "id": "AidH_KidrX9L",
        "scrolled": true,
        "vscode": {
          "languageId": "r"
        },
        "colab": {
          "base_uri": "https://localhost:8080/"
        },
        "outputId": "6ad8852c-e403-42bd-8350-44f49b686bf7"
      },
      "outputs": [
        {
          "output_type": "stream",
          "name": "stderr",
          "text": [
            "Installing package into ‘/usr/local/lib/R/site-library’\n",
            "(as ‘lib’ is unspecified)\n",
            "\n",
            "also installing the dependencies ‘rbibutils’, ‘Rdpack’, ‘minqa’, ‘nloptr’, ‘reformulas’, ‘RcppEigen’\n",
            "\n",
            "\n",
            "Loading required package: Matrix\n",
            "\n",
            "── \u001b[1mAttaching core tidyverse packages\u001b[22m ──────────────────────── tidyverse 2.0.0 ──\n",
            "\u001b[32m✔\u001b[39m \u001b[34mdplyr    \u001b[39m 1.1.4     \u001b[32m✔\u001b[39m \u001b[34mreadr    \u001b[39m 2.1.5\n",
            "\u001b[32m✔\u001b[39m \u001b[34mforcats  \u001b[39m 1.0.0     \u001b[32m✔\u001b[39m \u001b[34mstringr  \u001b[39m 1.5.1\n",
            "\u001b[32m✔\u001b[39m \u001b[34mggplot2  \u001b[39m 3.5.1     \u001b[32m✔\u001b[39m \u001b[34mtibble   \u001b[39m 3.2.1\n",
            "\u001b[32m✔\u001b[39m \u001b[34mlubridate\u001b[39m 1.9.4     \u001b[32m✔\u001b[39m \u001b[34mtidyr    \u001b[39m 1.3.1\n",
            "\u001b[32m✔\u001b[39m \u001b[34mpurrr    \u001b[39m 1.0.4     \n",
            "── \u001b[1mConflicts\u001b[22m ────────────────────────────────────────── tidyverse_conflicts() ──\n",
            "\u001b[31m✖\u001b[39m \u001b[34mtidyr\u001b[39m::\u001b[32mexpand()\u001b[39m masks \u001b[34mMatrix\u001b[39m::expand()\n",
            "\u001b[31m✖\u001b[39m \u001b[34mdplyr\u001b[39m::\u001b[32mfilter()\u001b[39m masks \u001b[34mstats\u001b[39m::filter()\n",
            "\u001b[31m✖\u001b[39m \u001b[34mdplyr\u001b[39m::\u001b[32mlag()\u001b[39m    masks \u001b[34mstats\u001b[39m::lag()\n",
            "\u001b[31m✖\u001b[39m \u001b[34mtidyr\u001b[39m::\u001b[32mpack()\u001b[39m   masks \u001b[34mMatrix\u001b[39m::pack()\n",
            "\u001b[31m✖\u001b[39m \u001b[34mtidyr\u001b[39m::\u001b[32munpack()\u001b[39m masks \u001b[34mMatrix\u001b[39m::unpack()\n",
            "\u001b[36mℹ\u001b[39m Use the conflicted package (\u001b[3m\u001b[34m<http://conflicted.r-lib.org/>\u001b[39m\u001b[23m) to force all conflicts to become errors\n",
            "Installing package into ‘/usr/local/lib/R/site-library’\n",
            "(as ‘lib’ is unspecified)\n",
            "\n",
            "also installing the dependencies ‘checkmate’, ‘zoo’, ‘gridExtra’, ‘htmlTable’, ‘viridis’, ‘Formula’, ‘mvtnorm’, ‘sandwich’, ‘lpSolve’, ‘Hmisc’\n",
            "\n",
            "\n",
            "Loading required package: MASS\n",
            "\n",
            "\n",
            "Attaching package: ‘MASS’\n",
            "\n",
            "\n",
            "The following object is masked from ‘package:dplyr’:\n",
            "\n",
            "    select\n",
            "\n",
            "\n",
            "Loading required package: mvtnorm\n",
            "\n",
            "Loading required package: sandwich\n",
            "\n",
            "mediation: Causal Mediation Analysis\n",
            "Version: 4.5.0\n",
            "\n",
            "\n"
          ]
        },
        {
          "output_type": "stream",
          "name": "stdout",
          "text": [
            "       ACME      ACME_p         ADE       ADE_p \n",
            "-0.06764012  0.36600000  0.79213635  0.00200000 \n"
          ]
        }
      ],
      "source": [
        "install.packages('lme4')\n",
        "library(lme4)\n",
        "library(tidyverse)\n",
        "install.packages('mediation')\n",
        "library(mediation)\n",
        "set.seed(123)\n",
        "run_analysis <- function(dat) {\n",
        "\n",
        "  model_m <- lm(x ~ age, data = dat)\n",
        "  model_y <- lm(c ~ x + age, data = dat)\n",
        "\n",
        "  fitMed <- mediate(model.m = model_m, model.y = model_y, treat = 'age', mediator = 'x')\n",
        "\n",
        "\n",
        "  return(c(ACME = fitMed$d0,\n",
        "           ACME_p = fitMed$d0.p,\n",
        "           ADE = fitMed$z0,\n",
        "           ADE_p = fitMed$z0.p))\n",
        "}\n",
        "results <- run_analysis(dat)\n",
        "print(results)"
      ]
    },
    {
      "cell_type": "markdown",
      "metadata": {
        "id": "bHxz5W2r5s79"
      },
      "source": [
        "---\n",
        "## 3. `repeat_analysis()` function (3 pts)"
      ]
    },
    {
      "cell_type": "markdown",
      "metadata": {
        "id": "G_jvc1XQBCpH"
      },
      "source": [
        "Next fill in the function `repeat_analysis()` below so that it simulates and analyzes data `num_simulations` times. Store the outputs from each simulation in the `simouts` matrix. Calculate and return the coverage across all the simulations run for both ACME and ADE."
      ]
    },
    {
      "cell_type": "code",
      "execution_count": 5,
      "metadata": {
        "id": "NheOpBDsBBo9",
        "vscode": {
          "languageId": "r"
        },
        "colab": {
          "base_uri": "https://localhost:8080/",
          "height": 34
        },
        "outputId": "7e2d9b08-6e0c-46d7-897a-f20a178a1981"
      },
      "outputs": [
        {
          "output_type": "display_data",
          "data": {
            "text/html": [
              "<style>\n",
              ".dl-inline {width: auto; margin:0; padding: 0}\n",
              ".dl-inline>dt, .dl-inline>dd {float: none; width: auto; display: inline-block}\n",
              ".dl-inline>dt::after {content: \":\\0020\"; padding-right: .5ex}\n",
              ".dl-inline>dt:not(:first-of-type) {padding-left: .5ex}\n",
              "</style><dl class=dl-inline><dt>ACME</dt><dd>-0.06764011752124</dd><dt>ACME_p</dt><dd>0.366</dd><dt>ADE</dt><dd>0.792136345206365</dd><dt>ADE_p</dt><dd>0.002</dd></dl>\n"
            ],
            "text/markdown": "ACME\n:   -0.06764011752124ACME_p\n:   0.366ADE\n:   0.792136345206365ADE_p\n:   0.002\n\n",
            "text/latex": "\\begin{description*}\n\\item[ACME] -0.06764011752124\n\\item[ACME\\textbackslash{}\\_p] 0.366\n\\item[ADE] 0.792136345206365\n\\item[ADE\\textbackslash{}\\_p] 0.002\n\\end{description*}\n",
            "text/plain": [
              "       ACME      ACME_p         ADE       ADE_p \n",
              "-0.06764012  0.36600000  0.79213635  0.00200000 "
            ]
          },
          "metadata": {}
        }
      ],
      "source": [
        "set.seed(123)\n",
        "repeat_analysis <- function(num_simulations, alpha, sample_size, age_lo, age_hi,\n",
        "        beta_xa, beta_x0, sd_x, beta_ca, beta_cx, beta_c0, sd_c) {\n",
        "    # Initialize simouts matrix for storing each output from run_analysis()\n",
        "    simouts <- matrix(rep(NA, num_simulations*4), nrow=num_simulations, ncol=4)\n",
        "\n",
        "    # Start simulating\n",
        "    for (i in 1:num_simulations) {\n",
        "      dat <- simulate_data(sample_size, age_lo, age_hi, beta_xa, beta_x0, sd_x, beta_ca, beta_cx, beta_c0, sd_c)\n",
        "      simouts[i,] <- run_analysis(dat)\n",
        "    }\n",
        "\n",
        "    # Calculate coverage for both ACME and ADE estimates using p-values in simouts\n",
        "    ACME_cov =  mean(simouts[, 2] < alpha)\n",
        "    ADE_cov =  mean(simouts[,4] <alpha )\n",
        "\n",
        "    return(list(ACME_cov = ACME_cov, ADE_cov = ADE_cov))\n",
        "}\n",
        "results"
      ]
    },
    {
      "cell_type": "markdown",
      "metadata": {
        "id": "bM5J5pYyQoRL"
      },
      "source": [
        "Now run the `repeat_analysis()` function using the same parameter settings as above, for 10 simulations, with an alpha criterion of 0.01."
      ]
    },
    {
      "cell_type": "code",
      "execution_count": 7,
      "metadata": {
        "id": "RpURGbZQQlEK",
        "vscode": {
          "languageId": "r"
        },
        "colab": {
          "base_uri": "https://localhost:8080/",
          "height": 184
        },
        "outputId": "e8929802-d73b-4789-fd33-8d657046885f"
      },
      "outputs": [
        {
          "output_type": "display_data",
          "data": {
            "text/html": [
              "<dl>\n",
              "\t<dt>$ACME_cov</dt>\n",
              "\t\t<dd>0</dd>\n",
              "\t<dt>$ADE_cov</dt>\n",
              "\t\t<dd>0.7</dd>\n",
              "\t<dt>$&lt;NA&gt;</dt>\n",
              "\t\t<dd>NULL</dd>\n",
              "\t<dt>$&lt;NA&gt;</dt>\n",
              "\t\t<dd>NULL</dd>\n",
              "</dl>\n"
            ],
            "text/markdown": "$ACME_cov\n:   0\n$ADE_cov\n:   0.7\n$&lt;NA&gt;\n:   NULL\n$&lt;NA&gt;\n:   NULL\n\n\n",
            "text/latex": "\\begin{description}\n\\item[\\$ACME\\_cov] 0\n\\item[\\$ADE\\_cov] 0.7\n\\item[\\$<NA>] NULL\n\\item[\\$<NA>] NULL\n\\end{description}\n",
            "text/plain": [
              "$ACME_cov\n",
              "[1] 0\n",
              "\n",
              "$ADE_cov\n",
              "[1] 0.7\n",
              "\n",
              "$<NA>\n",
              "NULL\n",
              "\n",
              "$<NA>\n",
              "NULL\n"
            ]
          },
          "metadata": {}
        }
      ],
      "source": [
        "set.seed(123)\n",
        "results = repeat_analysis(num_simulations = 10, alpha = 0.01, sample_size, age_lo, age_hi,\n",
        "        beta_xa, beta_x0, sd_x, beta_ca, beta_cx, beta_c0, sd_c)\n",
        "results[1:4]"
      ]
    },
    {
      "cell_type": "markdown",
      "metadata": {
        "id": "imIoN4w65s7_"
      },
      "source": [
        "---\n",
        "## 4. Testing different sample sizes (2 pts)"
      ]
    },
    {
      "cell_type": "markdown",
      "metadata": {
        "id": "CzeTaoY7SaXv"
      },
      "source": [
        "Finally, do the same thing (10 simulations, alpha criterion of 0.01) but for 5 different sample sizes: 50, 75, 100, 125, 150. You can do this using `map` (as in the tutorial), or a simple `for` loop, or by calculating each individually. Up to you! This should take around 3 minutes to run."
      ]
    },
    {
      "cell_type": "code",
      "execution_count": 10,
      "metadata": {
        "id": "mp-a19XsS8Md",
        "vscode": {
          "languageId": "r"
        }
      },
      "outputs": [],
      "source": [
        "sample_sizes <- c(50, 75, 100, 125, 150)\n",
        "power_df <- data.frame(\n",
        "  sample_size = sample_sizes,\n",
        "  ACME_cov = NA,\n",
        "  ADE_cov = NA\n",
        ")\n",
        "\n",
        "set.seed(123)\n",
        "\n",
        "for (i in seq_along(sample_sizes)) {\n",
        "  size <- sample_sizes[i]\n",
        "\n",
        "  result <- repeat_analysis(num_simulations = 10, alpha = 0.01, sample_size = size,\n",
        "  age_lo = age_lo, age_hi = age_hi, beta_xa = beta_xa, beta_x0 = beta_x0, sd_x = sd_x,\n",
        "  beta_ca = beta_ca, beta_cx = beta_cx, beta_c0 = beta_c0,sd_c = sd_c\n",
        "  )\n",
        "\n",
        "  power_df$ACME_cov[i] <- result$ACME_cov\n",
        "  power_df$ADE_cov[i] <- result$ADE_cov\n",
        "}"
      ]
    },
    {
      "cell_type": "markdown",
      "metadata": {
        "id": "akJwKCB7dkDw"
      },
      "source": [
        "Print your results."
      ]
    },
    {
      "cell_type": "code",
      "execution_count": 11,
      "metadata": {
        "id": "gIkkWTG2aR4d",
        "scrolled": true,
        "vscode": {
          "languageId": "r"
        },
        "colab": {
          "base_uri": "https://localhost:8080/"
        },
        "outputId": "7fbb1ec7-86cb-4228-a7d8-53a6cbf455cc"
      },
      "outputs": [
        {
          "output_type": "stream",
          "name": "stdout",
          "text": [
            "  sample_size ACME_cov ADE_cov\n",
            "1          50      0.1     0.5\n",
            "2          75      0.0     0.4\n",
            "3         100      0.0     0.9\n",
            "4         125      0.0     0.9\n",
            "5         150      0.0     1.0\n"
          ]
        }
      ],
      "source": [
        "print(power_df)"
      ]
    },
    {
      "cell_type": "markdown",
      "metadata": {
        "id": "q3Oo6npB5s8B"
      },
      "source": [
        "## 5. Reflection (2 pts)"
      ]
    },
    {
      "cell_type": "markdown",
      "metadata": {
        "id": "tpbGkul2dr-5"
      },
      "source": [
        "If this were a real power analysis, we'd want to run more simulations per sample size (to get a more precise estimate of power) and we may also want to test out some other values of the parameters we used to simulate our data. However, what would you conclude just based on the results above?\n",
        "\n",
        "> Since power is generally considered high at 80%, the results above show that power can be high starting at 100 participants (90%). However, there is low power to detect mediation.\n",
        ">"
      ]
    },
    {
      "cell_type": "markdown",
      "metadata": {
        "id": "RcCo3QOifUi5"
      },
      "source": [
        "**Given** how we generated the data, why was the direct effect harder to detect than the mediated effect?\n",
        "> There was a really high standard deviation which may cause a lot of noise with little participants and the alpha level of 0.01 is strict compared to 0.05."
      ]
    },
    {
      "cell_type": "markdown",
      "metadata": {
        "id": "C4MPECMmZXqe"
      },
      "source": [
        "**DUE:** 5pm EST, April 3, 2024"
      ]
    },
    {
      "cell_type": "markdown",
      "metadata": {
        "id": "r9GUofXN4BVy"
      },
      "source": [
        "**IMPORTANT** Did you collaborate with anyone on this assignment? If so, list their names here.\n",
        "> *Someone's Name*"
      ]
    }
  ],
  "metadata": {
    "colab": {
      "provenance": []
    },
    "kernelspec": {
      "display_name": "R",
      "language": "R",
      "name": "ir"
    },
    "language_info": {
      "codemirror_mode": "r",
      "file_extension": ".r",
      "mimetype": "text/x-r-source",
      "name": "R",
      "pygments_lexer": "r",
      "version": "4.2.0"
    }
  },
  "nbformat": 4,
  "nbformat_minor": 0
}