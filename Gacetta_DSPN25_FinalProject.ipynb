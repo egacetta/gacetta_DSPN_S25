{
 "cells": [
  {
   "cell_type": "markdown",
   "id": "f60262de-5650-4e90-8d36-d30c97590951",
   "metadata": {},
   "source": [
    "Eloise Gacetta \n",
    "\n",
    "April 2025\n",
    "# fMRI Functional Connectivity During Spatial Visualization Learning "
   ]
  },
  {
   "cell_type": "markdown",
   "id": "05b80b9d-b2e6-42a6-9bcd-a3e2e5d90c96",
   "metadata": {},
   "source": [
    "## Background \n",
    "From navigating around a city or building a piece of furniture, spatial skills are necessary for daily life. Spatial skills are the ability to imagine objects, relations, and transformations in mental space. Beyond being able to safely merge into traffic or pack a suitcase efficiently, spatial skills are crucial for things we may not even recognize. Have you ever wondered how unique skylines are designed safely in different cities? Spatial skills are the answer. Skyscraper arrangement is a response to the urban spatial arrangement, and engineers need to be able to read, interpret, and design 2D information that reflects a 3D structure. They also enable us to find abstract trends in data via graphical analysis (Tversky, 2014), something scientists use to interpret and demonstrate novel findings in research. Even surgeons demonstrate how spatial skills are necessary for their achievement, as Wanzel et al. (2002) found that surgical residents with higher visual-spatial scores did significatly better in complex procedures. However, they also found that with practice of spatial skills, such as mental rotation, residents with initial lower scores were able to achieve a compareable level of competency. Decades of research has demonstrated that spatial ability in early adulthood is a powerful predictor of science, technology, engineering and math (STEM) achievement (Wai, Lubinski, & Benbow, 2009) (Figure 1). While spatial skills are known to be highly malleable, particularly through targeted training interventions (Mix et al., 2021, Sorby et al., 2018), the neural mechanisms that support spatial learmning remain poorly understood. Sorby and colleagues (2018) tested approximately 3000 undergraduate engineering students on a mental rotation pre-test (PSVT:R) and adminstered a spatial training to those who failed. After nine weeks of training, students in spatial intervention were 1.32x more likely to pass Calculus, and 1.7x more likely to pass Chemistry. These skills were followed over a span of 20 years, and show that they were maintained (Figure 2), which consequently contributed to success in all STEM fields later in life. "
   ]
  },
  {
   "cell_type": "markdown",
   "id": "8481df9b-3fa3-4d04-acc2-6e3a1604dcac",
   "metadata": {},
   "source": [
    "<div style=\"display: flex; justify-content: center; gap: 40px; align-items: flex-start;\">\n",
    "\n",
    "  <div style=\"width: 45%; text-align: center;\">\n",
    "    <h3>Figure 1</h3>\n",
    "    <h4>Wai, Lubinski & Benbow, 2009</h4>\n",
    "    <img src=\"image2.png\" style=\"width: 100%; margin-bottom: 20px;\">\n",
    "    <p style=\"font-size: 90%; font-style: italic; margin-top: 10px;\">\n",
    "      Demonstrating the spatial ability score at age 11 predicting STEM education success later in life. \n",
    "      90% of all STEM degree holders had spatial skills in stanine 7+ at the age of 11.\n",
    "    </p>\n",
    "  </div>\n",
    "\n",
    "  <div style=\"width: 45%; text-align: center;\">\n",
    "    <h3>Figure 2</h3>\n",
    "    <h4>Adapted from Metz & Sorby, 2013</h4>\n",
    "    <img src=\"image.png\" style=\"width: 100%; margin-bottom: 20px;\">\n",
    "    <p style=\"font-size: 90%; font-style: italic; margin-top: 10px; text-align: right;\">\n",
    "      Demonstrating the longitudinal results of spatial training over 20 years.\n",
    "    </p>\n",
    "  </div>\n",
    "\n",
    "</div>\n"
   ]
  },
  {
   "cell_type": "markdown",
   "id": "8add6258-9f7b-488d-be55-e1aa36cc6b7c",
   "metadata": {},
   "source": [
    "## Project Motivation \n",
    "Although spatial skills are critical for success in STEM, they are not formally taught in school. Females often score lower on spatial skills than males (Linn & Petersen, 1985), but spatial visualization training is successful for improving spatial abilities in adults and for decreasing gender gaps. This suggests that group differences in spatial visualization depend on experience and could be changed.\n",
    "\n",
    "Meta-analyses have predicted brain regions and functions that may be involved in spatial skills, but no one has yet researched the neural bases of spatial learning in adults. Hawes and colleagues (2019) found that tasks innvolving symbolic numbers, mental arithematic, and mental rotation were associated with activity in the fronto-parietal cortex, specifically the intraparietal sulcus (IPS) and neighboring regions (inferior and superior parietal lobe) while also demonstrating some activity in the premotor cortex (Figure 3). This demonstrates the predicted regions involved with mental rotation and how they overlap with those of numbers and math. The functions of spatial skills in those regions are hypothesized by Zacks (2008) to be representations of transformations and use of spatial maps, as well as simulation of motor strategies to solve the taskk, respectively. \n",
    "\n",
    "## Goal of study \n",
    "The goal of this study is to test the neural bases of spatial learning in adults given the training created by Sorby and collegaues with predicted regions and functions from Zacks (2008) & Hawes et al. (2019) with a pre- post-training study. Specifically, using functional magnetic resonance imaging (fMRI) and a naturalistic video lesson, the aim is to determine the connections that are involved in the learning process of this training and its correspondance/relationship to spatial ability as tested by the PSVT:R mental rotation assessment. \n",
    "\n",
    "This is an exploratory analysis to determine qualitative results of neural circuits underlying spatial learning in adults and the results presented are the bases of training with results from the first time point (pre-training). \n",
    "\n",
    "<div style=\"text-align: center;\">\n",
    "  <h3>Figure 3</h3>\n",
    "  <h4>Hawes et al., 2019</h4>\n",
    "  <img src=\"image3.png\" width=\"500px\" style=\"margin-bottom: 10px;\">\n",
    "  <p style=\"font-size: 90%; font-style: italic; margin-top: 10px;\">\n",
    "    Overlapping brain regions activated during tasks of symbolic numbers, mental rotation, and mental arithmetic. All demonstrate activitiy in the parietal cortex, especially the IPS, and premotor regions.\n",
    "\n",
    "  </p>\n",
    "</div>\n"
   ]
  },
  {
   "cell_type": "markdown",
   "id": "63da80e5-a748-45f4-8b05-61c7919cec6d",
   "metadata": {},
   "source": [
    "## Question: \n",
    "#### What set of functional brain network connections during learning relate to spatial skills? "
   ]
  },
  {
   "cell_type": "markdown",
   "id": "fa7a37f9-990a-4ac0-a49a-592519945a59",
   "metadata": {},
   "source": [
    "#### Exploratory aim: \n",
    "To identify which functional brain networks are related to spatial skill learning without aprior hypotheses. While this is an exploratory analysis, there is a particular focus on connectivity of networks that prevoius literature demonstrates are related to mental rotation abilities that include the parietal and premotor regions. "
   ]
  },
  {
   "cell_type": "markdown",
   "id": "f43fe38f-b33b-4419-a6cf-b63af5c13bb1",
   "metadata": {},
   "source": [
    "### Methodology\n",
    "Participants ages 18-24 y.o (N = 67). were recruited from Carnegie Mellon University and the surrounding Pittsburgh area. \n",
    "Participants completed a pre-training (T1) fMRI session, including a mental rotation test, a language localizer, anviewing a naturalistic lesson video and behavior testing that consisted of the Purdue Spatial Visualization Task: Rotations (PSVT:R) as a baseline measure of mental rotation/spatial visualization ability. The PSVT:R score is also how spatial ability is defined. \n",
    "After the pre-training sessions, participants completed a 9-week spatial skills training via the SpatialVis app from eGroveEducation created by Sorby & colleagues that instructed participants with drawing practice on varying 2D and 3D axes, transformations, assembly, and more (Figure 4).  \n",
    "<div style=\"text-align: center;\">\n",
    "  <h3>Figure 4</h3>\n",
    "  <h4>Spatial Vis app (eGroveEducation)</h4>\n",
    "  <img src=\"image4.png\" width=\"500px\" style=\"margin-bottom: 10px;\">\n",
    "  <p style=\"font-size: 90%; font-style: italic; margin-top: 10px;\">\n",
    "    Visualization of the Spatial Vis app \n",
    "  </p>\n",
    "</div>\n",
    "\n",
    "After 9 weeks of spatial training (1 lesson/week), participants came back for post-training fMRI and behavior sessions to examine the changes in spatial visualization ability and changes in the brain. \n",
    "\n",
    "Data collection is still ongoing, so the Educational Lesson T1 results are being presented below to examine the neural foundation for the learning process.  "
   ]
  },
  {
   "cell_type": "markdown",
   "id": "f37dac14-0b0e-4376-891b-8b4ff4d2ca34",
   "metadata": {},
   "source": [
    "### Variables \n",
    " \n",
    "**Subject ID:** Specific individual subject data\n",
    " - N = 67\n",
    "\n",
    "**PSVT:R Score:** Purdue Spatial Visualization Test:Rotations score, demonstrating spatial visualization ability \n",
    " - 1 score/sub  \n",
    "\n",
    "**Network Pair:** Network of ROIs that have been averaged together to define network connection strength \n",
    "1. Math: Bilateral anterior and posterior IPS (LaIPS, RaIPS, LpIPS, RpIPS)\n",
    " - within-network\n",
    "3. Motor: Bilateral dorsal and ventral premotor cortex (LdPremotor, RdPremotor, LvPremotor, RvPremotor)\n",
    " - within-network\n",
    "4. Language: Bilateral medial temporal gyrus, left-lateralized Broca's Area, Left-lateralized visual word form area (LMedTempGyrus, RMedTempGyrus, LBroca, LVWFA)\n",
    " - within-network\n",
    "5. Math-Motor: LaIPS, RaIPS, LpIPS, RpIPS, LdPremotor, RdPremotor, LvPremotor, RvPremotor\n",
    " - between-network\n",
    "6. Math-Language: LaIPS, RaIPS, LpIPS, RpIPS, LMedTempGyrus, RMedTempGyrus, LBroca, LVWFA\n",
    " - between-network \n",
    "7. Motor-Language: LdPremotor, RdPremotor, LvPremotor, RvPremotor, LMedTempGyrus, RMedTempGyrus, LBroca, LVWFA\n",
    " - between-network\n",
    "\n",
    "1 network/sub \n",
    "\n",
    "**Avg Connectivity:** Average functional connectivity of ROIs within a specified Network Pair.\n",
    " - 1 value/network/sub"
   ]
  },
  {
   "cell_type": "markdown",
   "id": "d70bd339-302c-42ba-a8bc-38cc817c21cc",
   "metadata": {},
   "source": [
    "### Overview of Data Extraction, Formatting, and Cleansing \n",
    "1. Preprocessing of raw fMRI data - remove participants with motion >6 mm or with failed pre-processing \n",
    "3. Timecourse creation\n",
    "4. Timecourse extraction\n",
    "5. Individual ROI correlation matrices of timecourse\n",
    "6. Convert individual matrices into data frame, define network lists, calculate average of ROI correlations in defined network  \n",
    "7. Merge PSVT:R data\n",
    "8. Create network variables\n",
    "9. Factor network pairs\n",
    "\n",
    "<div style=\"text-align: center;\">\n",
    "  <h3>Data Pre-Processing</h3>\n",
    "  <img src=\"image5.png\" width=\"500px\" style=\"margin-bottom: 10px;\">\n",
    "  <p style=\"font-size: 90%; font-style: italic; margin-top: 10px;\">\n",
    "    Graphical overview of the fMRI data preprocessing and format construction process \n",
    "  </p>\n",
    "</div>"
   ]
  },
  {
   "cell_type": "markdown",
   "id": "71afd022-f19b-402a-baa0-d7ea06b9f51e",
   "metadata": {},
   "source": [
    "### Overview of Statistical Analyses: \n",
    "1. Linear regression\n",
    "2. Mixed-effects linear regression\n",
    "3. Akaike Information Criterion (AIC)"
   ]
  },
  {
   "cell_type": "markdown",
   "id": "8345a73f-9d55-4e54-b199-bba9213a45eb",
   "metadata": {},
   "source": [
    "## Data Extraction, Formatting, and Cleansing \n",
    "\n",
    "#### 1. Preprocessing of raw fMRI data \n",
    "Using BrainVoyager 22.4, in-house script was created to pre-process the raw fMRI data which consisted of slice timing correction, 3D motion correction, Gaussian spatial smoothing (6 mm), and high pass filtering. \n",
    "\n",
    " - Data anomolies: 8 participants removed due to excessive motion \n",
    "\n",
    "\n",
    "#### 2. Timecourse creation\n",
    "Using BrainVoyager 22.4, an in-house script created a Volume Time Course (VTC) which is a data format in BrainVoyager that stores the time-series of brain activity in a 3D spatial volume, which was then normalized to Talairach space (Talairach & Tournoux, 1988). \n",
    "\n",
    "#### 3. Timecourse extraction \n",
    "Using MATLAB R2024a with the BVQX package from NeuroElf, a script was written that included loading in a ROI file, looping through individual subject VTC files, extracting the BOLD activity within each ROI specified, then wrote a CSV including the BOLD signal value for each ROI. An individual CSV file was generated for each subject corresponding to the activity within an ROI. \n",
    "\n",
    "#### 4. Individual ROI correlation matrices \n",
    "Using MATLAB R2024a, a script was written that looped through the individual CSV files generated from Step 3, converted the data table to an array, computed a pairwise correlation matrix of every ROI's BOLD timecourse activity to every other ROIs BOLD timecourse activity on the data array using pearson's r correlation, and saved each individual matrix as a CSV file in matrix format. \n",
    "\n",
    "$$\n",
    "r_{ij} = \\frac{\\sum_{k=1}^{n} (X_{ik} - \\bar{X}_i)(X_{jk} - \\bar{X}_j)}{\\sqrt{\\sum_{k=1}^{n} (X_{ik} - \\bar{X}_i)^2} \\sqrt{\\sum_{k=1}^{n} (X_{jk} - \\bar{X}_j)^2}}\n",
    "$$\n",
    "\n",
    "\n",
    "Where:\n",
    "\n",
    "- $X_{ik}$ = value for participant $k$ in region $i$\n",
    "- $\\bar{X}_i$ = average value in region $i$\n",
    "- $n$ = total number of participants\n",
    "- $r_{ij}$ =  Pearson correlation between region $i$ and region $j$\n",
    "  \n",
    "Resulting matrix $R$ : $p \\times p$ symmetric matrix, $p$ is the number of ROIs\n",
    "\n",
    "\n",
    "$$\n",
    "R = \\begin{bmatrix}\n",
    "r_{11} & r_{12} & \\dots & r_{1p} \\\\\n",
    "r_{21} & r_{22} & \\dots & r_{2p} \\\\\n",
    "\\vdots & \\vdots & \\ddots & \\vdots \\\\\n",
    "r_{p1} & r_{p2} & \\dots & r_{pp}\n",
    "\\end{bmatrix}\n",
    "$$\n",
    "\n",
    "Each matrix consists of a Pearson's r value for every ROI to ROI which will then be used for merging with PSVT:R scores to understand the functional connectivity brain-behavior relationship. \n",
    "\n",
    "#### Example of an individual correlation matrix csv file from MATLAB script"
   ]
  },
  {
   "cell_type": "code",
   "execution_count": 5,
   "id": "5f329d99-e97c-4948-b900-3969f6fce645",
   "metadata": {},
   "outputs": [
    {
     "data": {
      "text/html": [
       "<table class=\"dataframe\">\n",
       "<caption>A data.frame: 6 × 33</caption>\n",
       "<thead>\n",
       "\t<tr><th></th><th scope=col>Row</th><th scope=col>LAIPS</th><th scope=col>LPIPS</th><th scope=col>LV2</th><th scope=col>LFusiform</th><th scope=col>LDPremotor</th><th scope=col>LVPremotor</th><th scope=col>LDLPFC</th><th scope=col>LInsula</th><th scope=col>LCaudate</th><th scope=col>⋯</th><th scope=col>RCerebellumSup</th><th scope=col>brainstem</th><th scope=col>RMedTempGyrus</th><th scope=col>RAngGyrus</th><th scope=col>RTempPole</th><th scope=col>LMedTempGyrus</th><th scope=col>LBroca</th><th scope=col>LVWFA</th><th scope=col>LIFG</th><th scope=col>LAngGyrus</th></tr>\n",
       "\t<tr><th></th><th scope=col>&lt;chr&gt;</th><th scope=col>&lt;dbl&gt;</th><th scope=col>&lt;dbl&gt;</th><th scope=col>&lt;dbl&gt;</th><th scope=col>&lt;dbl&gt;</th><th scope=col>&lt;dbl&gt;</th><th scope=col>&lt;dbl&gt;</th><th scope=col>&lt;dbl&gt;</th><th scope=col>&lt;dbl&gt;</th><th scope=col>&lt;dbl&gt;</th><th scope=col>⋯</th><th scope=col>&lt;dbl&gt;</th><th scope=col>&lt;dbl&gt;</th><th scope=col>&lt;dbl&gt;</th><th scope=col>&lt;dbl&gt;</th><th scope=col>&lt;dbl&gt;</th><th scope=col>&lt;dbl&gt;</th><th scope=col>&lt;dbl&gt;</th><th scope=col>&lt;dbl&gt;</th><th scope=col>&lt;dbl&gt;</th><th scope=col>&lt;dbl&gt;</th></tr>\n",
       "</thead>\n",
       "<tbody>\n",
       "\t<tr><th scope=row>1</th><td>LAIPS     </td><td>1.0000000</td><td>0.9454216</td><td>0.7522978</td><td>0.8565215</td><td>0.9156453</td><td>0.8208452</td><td>0.7514402</td><td>0.3266241</td><td>0.2705998</td><td>⋯</td><td>0.6869210</td><td>0.3469511</td><td>0.2674938</td><td>-0.03356618</td><td>0.4842715</td><td>0.4298931</td><td>0.3840702</td><td>0.7380454</td><td>0.3500498</td><td>0.009213768</td></tr>\n",
       "\t<tr><th scope=row>2</th><td>LPIPS     </td><td>0.9454216</td><td>1.0000000</td><td>0.8153879</td><td>0.8923776</td><td>0.8963654</td><td>0.7652748</td><td>0.7413853</td><td>0.2937828</td><td>0.2117299</td><td>⋯</td><td>0.7349787</td><td>0.3751016</td><td>0.2546623</td><td>-0.02647530</td><td>0.5155733</td><td>0.4136870</td><td>0.3710540</td><td>0.8348728</td><td>0.3842501</td><td>0.025579867</td></tr>\n",
       "\t<tr><th scope=row>3</th><td>LV2       </td><td>0.7522978</td><td>0.8153879</td><td>1.0000000</td><td>0.9290609</td><td>0.7241596</td><td>0.7351383</td><td>0.6045182</td><td>0.3964440</td><td>0.2543158</td><td>⋯</td><td>0.7228168</td><td>0.4193631</td><td>0.3711276</td><td>-0.07419830</td><td>0.6198365</td><td>0.3802984</td><td>0.4664787</td><td>0.8504981</td><td>0.3827899</td><td>0.113778784</td></tr>\n",
       "\t<tr><th scope=row>4</th><td>LFusiform </td><td>0.8565215</td><td>0.8923776</td><td>0.9290609</td><td>1.0000000</td><td>0.8101423</td><td>0.7568244</td><td>0.6712742</td><td>0.3573375</td><td>0.1979450</td><td>⋯</td><td>0.7365819</td><td>0.3696170</td><td>0.3473665</td><td>-0.05324509</td><td>0.6154657</td><td>0.4158125</td><td>0.4609398</td><td>0.9050505</td><td>0.4662211</td><td>0.111669835</td></tr>\n",
       "\t<tr><th scope=row>5</th><td>LDPremotor</td><td>0.9156453</td><td>0.8963654</td><td>0.7241596</td><td>0.8101423</td><td>1.0000000</td><td>0.8379066</td><td>0.7717751</td><td>0.4657784</td><td>0.3146630</td><td>⋯</td><td>0.7983282</td><td>0.3754407</td><td>0.3086004</td><td> 0.05451318</td><td>0.6000082</td><td>0.4660118</td><td>0.5283530</td><td>0.7616441</td><td>0.3705055</td><td>0.149241593</td></tr>\n",
       "\t<tr><th scope=row>6</th><td>LVPremotor</td><td>0.8208452</td><td>0.7652748</td><td>0.7351383</td><td>0.7568244</td><td>0.8379066</td><td>1.0000000</td><td>0.7013912</td><td>0.4799338</td><td>0.4364916</td><td>⋯</td><td>0.6409756</td><td>0.3912302</td><td>0.3459710</td><td>-0.05924541</td><td>0.5767844</td><td>0.4111187</td><td>0.5654124</td><td>0.6668665</td><td>0.2917864</td><td>0.023408475</td></tr>\n",
       "</tbody>\n",
       "</table>\n"
      ],
      "text/latex": [
       "A data.frame: 6 × 33\n",
       "\\begin{tabular}{r|lllllllllllllllllllll}\n",
       "  & Row & LAIPS & LPIPS & LV2 & LFusiform & LDPremotor & LVPremotor & LDLPFC & LInsula & LCaudate & ⋯ & RCerebellumSup & brainstem & RMedTempGyrus & RAngGyrus & RTempPole & LMedTempGyrus & LBroca & LVWFA & LIFG & LAngGyrus\\\\\n",
       "  & <chr> & <dbl> & <dbl> & <dbl> & <dbl> & <dbl> & <dbl> & <dbl> & <dbl> & <dbl> & ⋯ & <dbl> & <dbl> & <dbl> & <dbl> & <dbl> & <dbl> & <dbl> & <dbl> & <dbl> & <dbl>\\\\\n",
       "\\hline\n",
       "\t1 & LAIPS      & 1.0000000 & 0.9454216 & 0.7522978 & 0.8565215 & 0.9156453 & 0.8208452 & 0.7514402 & 0.3266241 & 0.2705998 & ⋯ & 0.6869210 & 0.3469511 & 0.2674938 & -0.03356618 & 0.4842715 & 0.4298931 & 0.3840702 & 0.7380454 & 0.3500498 & 0.009213768\\\\\n",
       "\t2 & LPIPS      & 0.9454216 & 1.0000000 & 0.8153879 & 0.8923776 & 0.8963654 & 0.7652748 & 0.7413853 & 0.2937828 & 0.2117299 & ⋯ & 0.7349787 & 0.3751016 & 0.2546623 & -0.02647530 & 0.5155733 & 0.4136870 & 0.3710540 & 0.8348728 & 0.3842501 & 0.025579867\\\\\n",
       "\t3 & LV2        & 0.7522978 & 0.8153879 & 1.0000000 & 0.9290609 & 0.7241596 & 0.7351383 & 0.6045182 & 0.3964440 & 0.2543158 & ⋯ & 0.7228168 & 0.4193631 & 0.3711276 & -0.07419830 & 0.6198365 & 0.3802984 & 0.4664787 & 0.8504981 & 0.3827899 & 0.113778784\\\\\n",
       "\t4 & LFusiform  & 0.8565215 & 0.8923776 & 0.9290609 & 1.0000000 & 0.8101423 & 0.7568244 & 0.6712742 & 0.3573375 & 0.1979450 & ⋯ & 0.7365819 & 0.3696170 & 0.3473665 & -0.05324509 & 0.6154657 & 0.4158125 & 0.4609398 & 0.9050505 & 0.4662211 & 0.111669835\\\\\n",
       "\t5 & LDPremotor & 0.9156453 & 0.8963654 & 0.7241596 & 0.8101423 & 1.0000000 & 0.8379066 & 0.7717751 & 0.4657784 & 0.3146630 & ⋯ & 0.7983282 & 0.3754407 & 0.3086004 &  0.05451318 & 0.6000082 & 0.4660118 & 0.5283530 & 0.7616441 & 0.3705055 & 0.149241593\\\\\n",
       "\t6 & LVPremotor & 0.8208452 & 0.7652748 & 0.7351383 & 0.7568244 & 0.8379066 & 1.0000000 & 0.7013912 & 0.4799338 & 0.4364916 & ⋯ & 0.6409756 & 0.3912302 & 0.3459710 & -0.05924541 & 0.5767844 & 0.4111187 & 0.5654124 & 0.6668665 & 0.2917864 & 0.023408475\\\\\n",
       "\\end{tabular}\n"
      ],
      "text/markdown": [
       "\n",
       "A data.frame: 6 × 33\n",
       "\n",
       "| <!--/--> | Row &lt;chr&gt; | LAIPS &lt;dbl&gt; | LPIPS &lt;dbl&gt; | LV2 &lt;dbl&gt; | LFusiform &lt;dbl&gt; | LDPremotor &lt;dbl&gt; | LVPremotor &lt;dbl&gt; | LDLPFC &lt;dbl&gt; | LInsula &lt;dbl&gt; | LCaudate &lt;dbl&gt; | ⋯ ⋯ | RCerebellumSup &lt;dbl&gt; | brainstem &lt;dbl&gt; | RMedTempGyrus &lt;dbl&gt; | RAngGyrus &lt;dbl&gt; | RTempPole &lt;dbl&gt; | LMedTempGyrus &lt;dbl&gt; | LBroca &lt;dbl&gt; | LVWFA &lt;dbl&gt; | LIFG &lt;dbl&gt; | LAngGyrus &lt;dbl&gt; |\n",
       "|---|---|---|---|---|---|---|---|---|---|---|---|---|---|---|---|---|---|---|---|---|---|\n",
       "| 1 | LAIPS      | 1.0000000 | 0.9454216 | 0.7522978 | 0.8565215 | 0.9156453 | 0.8208452 | 0.7514402 | 0.3266241 | 0.2705998 | ⋯ | 0.6869210 | 0.3469511 | 0.2674938 | -0.03356618 | 0.4842715 | 0.4298931 | 0.3840702 | 0.7380454 | 0.3500498 | 0.009213768 |\n",
       "| 2 | LPIPS      | 0.9454216 | 1.0000000 | 0.8153879 | 0.8923776 | 0.8963654 | 0.7652748 | 0.7413853 | 0.2937828 | 0.2117299 | ⋯ | 0.7349787 | 0.3751016 | 0.2546623 | -0.02647530 | 0.5155733 | 0.4136870 | 0.3710540 | 0.8348728 | 0.3842501 | 0.025579867 |\n",
       "| 3 | LV2        | 0.7522978 | 0.8153879 | 1.0000000 | 0.9290609 | 0.7241596 | 0.7351383 | 0.6045182 | 0.3964440 | 0.2543158 | ⋯ | 0.7228168 | 0.4193631 | 0.3711276 | -0.07419830 | 0.6198365 | 0.3802984 | 0.4664787 | 0.8504981 | 0.3827899 | 0.113778784 |\n",
       "| 4 | LFusiform  | 0.8565215 | 0.8923776 | 0.9290609 | 1.0000000 | 0.8101423 | 0.7568244 | 0.6712742 | 0.3573375 | 0.1979450 | ⋯ | 0.7365819 | 0.3696170 | 0.3473665 | -0.05324509 | 0.6154657 | 0.4158125 | 0.4609398 | 0.9050505 | 0.4662211 | 0.111669835 |\n",
       "| 5 | LDPremotor | 0.9156453 | 0.8963654 | 0.7241596 | 0.8101423 | 1.0000000 | 0.8379066 | 0.7717751 | 0.4657784 | 0.3146630 | ⋯ | 0.7983282 | 0.3754407 | 0.3086004 |  0.05451318 | 0.6000082 | 0.4660118 | 0.5283530 | 0.7616441 | 0.3705055 | 0.149241593 |\n",
       "| 6 | LVPremotor | 0.8208452 | 0.7652748 | 0.7351383 | 0.7568244 | 0.8379066 | 1.0000000 | 0.7013912 | 0.4799338 | 0.4364916 | ⋯ | 0.6409756 | 0.3912302 | 0.3459710 | -0.05924541 | 0.5767844 | 0.4111187 | 0.5654124 | 0.6668665 | 0.2917864 | 0.023408475 |\n",
       "\n"
      ],
      "text/plain": [
       "  Row        LAIPS     LPIPS     LV2       LFusiform LDPremotor LVPremotor\n",
       "1 LAIPS      1.0000000 0.9454216 0.7522978 0.8565215 0.9156453  0.8208452 \n",
       "2 LPIPS      0.9454216 1.0000000 0.8153879 0.8923776 0.8963654  0.7652748 \n",
       "3 LV2        0.7522978 0.8153879 1.0000000 0.9290609 0.7241596  0.7351383 \n",
       "4 LFusiform  0.8565215 0.8923776 0.9290609 1.0000000 0.8101423  0.7568244 \n",
       "5 LDPremotor 0.9156453 0.8963654 0.7241596 0.8101423 1.0000000  0.8379066 \n",
       "6 LVPremotor 0.8208452 0.7652748 0.7351383 0.7568244 0.8379066  1.0000000 \n",
       "  LDLPFC    LInsula   LCaudate  ⋯ RCerebellumSup brainstem RMedTempGyrus\n",
       "1 0.7514402 0.3266241 0.2705998 ⋯ 0.6869210      0.3469511 0.2674938    \n",
       "2 0.7413853 0.2937828 0.2117299 ⋯ 0.7349787      0.3751016 0.2546623    \n",
       "3 0.6045182 0.3964440 0.2543158 ⋯ 0.7228168      0.4193631 0.3711276    \n",
       "4 0.6712742 0.3573375 0.1979450 ⋯ 0.7365819      0.3696170 0.3473665    \n",
       "5 0.7717751 0.4657784 0.3146630 ⋯ 0.7983282      0.3754407 0.3086004    \n",
       "6 0.7013912 0.4799338 0.4364916 ⋯ 0.6409756      0.3912302 0.3459710    \n",
       "  RAngGyrus   RTempPole LMedTempGyrus LBroca    LVWFA     LIFG      LAngGyrus  \n",
       "1 -0.03356618 0.4842715 0.4298931     0.3840702 0.7380454 0.3500498 0.009213768\n",
       "2 -0.02647530 0.5155733 0.4136870     0.3710540 0.8348728 0.3842501 0.025579867\n",
       "3 -0.07419830 0.6198365 0.3802984     0.4664787 0.8504981 0.3827899 0.113778784\n",
       "4 -0.05324509 0.6154657 0.4158125     0.4609398 0.9050505 0.4662211 0.111669835\n",
       "5  0.05451318 0.6000082 0.4660118     0.5283530 0.7616441 0.3705055 0.149241593\n",
       "6 -0.05924541 0.5767844 0.4111187     0.5654124 0.6668665 0.2917864 0.023408475"
      ]
     },
     "metadata": {},
     "output_type": "display_data"
    }
   ],
   "source": [
    "n1_matrix <- read.csv(\"E:/SpatialVisData_RotVid/Functional Connectivity/T1/Individual CSVs with lang/Subject1_Run1_FuncConn_Complex_VOI_CorrelationMatrix.csv\")\n",
    "head(n1_matrix)"
   ]
  },
  {
   "cell_type": "code",
   "execution_count": 6,
   "id": "7642e1be-966d-4cec-93bb-0ec89816311f",
   "metadata": {},
   "outputs": [
    {
     "name": "stderr",
     "output_type": "stream",
     "text": [
      "Warning message:\n",
      "\"package 'tidyverse' was built under R version 4.4.2\"\n",
      "── \u001b[1mAttaching core tidyverse packages\u001b[22m ──────────────────────────────────────────────────────────────── tidyverse 2.0.0 ──\n",
      "\u001b[32m✔\u001b[39m \u001b[34mdplyr    \u001b[39m 1.1.4     \u001b[32m✔\u001b[39m \u001b[34mreadr    \u001b[39m 2.1.5\n",
      "\u001b[32m✔\u001b[39m \u001b[34mforcats  \u001b[39m 1.0.0     \u001b[32m✔\u001b[39m \u001b[34mstringr  \u001b[39m 1.5.1\n",
      "\u001b[32m✔\u001b[39m \u001b[34mggplot2  \u001b[39m 3.5.1     \u001b[32m✔\u001b[39m \u001b[34mtibble   \u001b[39m 3.2.1\n",
      "\u001b[32m✔\u001b[39m \u001b[34mlubridate\u001b[39m 1.9.3     \u001b[32m✔\u001b[39m \u001b[34mtidyr    \u001b[39m 1.3.1\n",
      "\u001b[32m✔\u001b[39m \u001b[34mpurrr    \u001b[39m 1.0.2     \n",
      "── \u001b[1mConflicts\u001b[22m ────────────────────────────────────────────────────────────────────────────────── tidyverse_conflicts() ──\n",
      "\u001b[31m✖\u001b[39m \u001b[34mdplyr\u001b[39m::\u001b[32mfilter()\u001b[39m masks \u001b[34mstats\u001b[39m::filter()\n",
      "\u001b[31m✖\u001b[39m \u001b[34mdplyr\u001b[39m::\u001b[32mlag()\u001b[39m    masks \u001b[34mstats\u001b[39m::lag()\n",
      "\u001b[36mℹ\u001b[39m Use the conflicted package (\u001b[3m\u001b[34m<http://conflicted.r-lib.org/>\u001b[39m\u001b[23m) to force all conflicts to become errors\n"
     ]
    }
   ],
   "source": [
    "library(tidyverse)\n",
    "library(ggplot2)"
   ]
  },
  {
   "cell_type": "markdown",
   "id": "9a4bf449-0cc4-4105-84d3-3208002798a0",
   "metadata": {},
   "source": [
    "#### 5. Convert individual matrices into a data frame, define network ROIs, calculate mean functional connectivity for a network\n",
    "The resulting data frame has an average correlation variable of each network (measure of functional connectivity)."
   ]
  },
  {
   "cell_type": "code",
   "execution_count": 7,
   "id": "387ebc0d-60f9-41e8-8743-51141dbe062d",
   "metadata": {},
   "outputs": [
    {
     "data": {
      "text/html": [
       "<table class=\"dataframe\">\n",
       "<caption>A data.frame: 6 × 3</caption>\n",
       "<thead>\n",
       "\t<tr><th></th><th scope=col>Subject</th><th scope=col>Network_Pair</th><th scope=col>Avg_Correlation</th></tr>\n",
       "\t<tr><th></th><th scope=col>&lt;chr&gt;</th><th scope=col>&lt;fct&gt;</th><th scope=col>&lt;dbl&gt;</th></tr>\n",
       "</thead>\n",
       "<tbody>\n",
       "\t<tr><th scope=row>1</th><td>Subject1_Run1_FuncConn_Complex_VOI_CorrelationMatrix</td><td>Language        </td><td>0.4948735</td></tr>\n",
       "\t<tr><th scope=row>2</th><td>Subject1_Run1_FuncConn_Complex_VOI_CorrelationMatrix</td><td>Motor           </td><td>0.8131573</td></tr>\n",
       "\t<tr><th scope=row>3</th><td>Subject1_Run1_FuncConn_Complex_VOI_CorrelationMatrix</td><td>Math            </td><td>0.9184504</td></tr>\n",
       "\t<tr><th scope=row>4</th><td>Subject1_Run1_FuncConn_Complex_VOI_CorrelationMatrix</td><td>Math - Motor    </td><td>0.8460717</td></tr>\n",
       "\t<tr><th scope=row>5</th><td>Subject1_Run1_FuncConn_Complex_VOI_CorrelationMatrix</td><td>Math - Language </td><td>0.4817618</td></tr>\n",
       "\t<tr><th scope=row>6</th><td>Subject1_Run1_FuncConn_Complex_VOI_CorrelationMatrix</td><td>Language - Motor</td><td>0.4846591</td></tr>\n",
       "</tbody>\n",
       "</table>\n"
      ],
      "text/latex": [
       "A data.frame: 6 × 3\n",
       "\\begin{tabular}{r|lll}\n",
       "  & Subject & Network\\_Pair & Avg\\_Correlation\\\\\n",
       "  & <chr> & <fct> & <dbl>\\\\\n",
       "\\hline\n",
       "\t1 & Subject1\\_Run1\\_FuncConn\\_Complex\\_VOI\\_CorrelationMatrix & Language         & 0.4948735\\\\\n",
       "\t2 & Subject1\\_Run1\\_FuncConn\\_Complex\\_VOI\\_CorrelationMatrix & Motor            & 0.8131573\\\\\n",
       "\t3 & Subject1\\_Run1\\_FuncConn\\_Complex\\_VOI\\_CorrelationMatrix & Math             & 0.9184504\\\\\n",
       "\t4 & Subject1\\_Run1\\_FuncConn\\_Complex\\_VOI\\_CorrelationMatrix & Math - Motor     & 0.8460717\\\\\n",
       "\t5 & Subject1\\_Run1\\_FuncConn\\_Complex\\_VOI\\_CorrelationMatrix & Math - Language  & 0.4817618\\\\\n",
       "\t6 & Subject1\\_Run1\\_FuncConn\\_Complex\\_VOI\\_CorrelationMatrix & Language - Motor & 0.4846591\\\\\n",
       "\\end{tabular}\n"
      ],
      "text/markdown": [
       "\n",
       "A data.frame: 6 × 3\n",
       "\n",
       "| <!--/--> | Subject &lt;chr&gt; | Network_Pair &lt;fct&gt; | Avg_Correlation &lt;dbl&gt; |\n",
       "|---|---|---|---|\n",
       "| 1 | Subject1_Run1_FuncConn_Complex_VOI_CorrelationMatrix | Language         | 0.4948735 |\n",
       "| 2 | Subject1_Run1_FuncConn_Complex_VOI_CorrelationMatrix | Motor            | 0.8131573 |\n",
       "| 3 | Subject1_Run1_FuncConn_Complex_VOI_CorrelationMatrix | Math             | 0.9184504 |\n",
       "| 4 | Subject1_Run1_FuncConn_Complex_VOI_CorrelationMatrix | Math - Motor     | 0.8460717 |\n",
       "| 5 | Subject1_Run1_FuncConn_Complex_VOI_CorrelationMatrix | Math - Language  | 0.4817618 |\n",
       "| 6 | Subject1_Run1_FuncConn_Complex_VOI_CorrelationMatrix | Language - Motor | 0.4846591 |\n",
       "\n"
      ],
      "text/plain": [
       "  Subject                                              Network_Pair    \n",
       "1 Subject1_Run1_FuncConn_Complex_VOI_CorrelationMatrix Language        \n",
       "2 Subject1_Run1_FuncConn_Complex_VOI_CorrelationMatrix Motor           \n",
       "3 Subject1_Run1_FuncConn_Complex_VOI_CorrelationMatrix Math            \n",
       "4 Subject1_Run1_FuncConn_Complex_VOI_CorrelationMatrix Math - Motor    \n",
       "5 Subject1_Run1_FuncConn_Complex_VOI_CorrelationMatrix Math - Language \n",
       "6 Subject1_Run1_FuncConn_Complex_VOI_CorrelationMatrix Language - Motor\n",
       "  Avg_Correlation\n",
       "1 0.4948735      \n",
       "2 0.8131573      \n",
       "3 0.9184504      \n",
       "4 0.8460717      \n",
       "5 0.4817618      \n",
       "6 0.4846591      "
      ]
     },
     "metadata": {},
     "output_type": "display_data"
    }
   ],
   "source": [
    "folder_path <- \"E:/SpatialVisData_RotVid/Functional Connectivity/T1/Individual CSVs with lang\"\n",
    "\n",
    "networks <- list(\n",
    "  Language = c('LMedTempGyrus', 'RMedTempGyrus', 'LBroca', 'LVWFA'),\n",
    "  Motor = c('LDPremotor', 'RDPremotor', 'LVPremotor', 'RVPremotor'),\n",
    "  Math = c('LAIPS', 'RAIPS', 'LPIPS', 'RPIPS')\n",
    ")\n",
    "\n",
    "# Define order of network pairs\n",
    "ordered_pairs <- c(\"Language\", \"Motor\", \"Math\", \n",
    "                   \"Math - Motor\", \"Math - Language\", \"Language - Motor\")\n",
    "\n",
    "# clean ROI names\n",
    "clean_names <- function(names) {\n",
    "  return(trimws(gsub(\"\\\"\", \"\", names)))\n",
    "}\n",
    "\n",
    "# Calculate mean correlation for a network set of ROIs\n",
    "calculate_mean_correlation <- function(data, rois1, rois2 = NULL) {\n",
    "  if (is.null(rois2)) rois2 <- rois1  # Within-network case\n",
    "  valid_rois1 <- rois1[rois1 %in% rownames(data)]\n",
    "  valid_rois2 <- rois2[rois2 %in% colnames(data)]\n",
    "  if (length(valid_rois1) < 2 || length(valid_rois2) < 2) return(NA)\n",
    "  \n",
    "  network_data <- data[valid_rois1, valid_rois2, drop=FALSE]\n",
    "  if (identical(valid_rois1, valid_rois2)) network_data[lower.tri(network_data, diag=TRUE)] <- NA  # Remove diagonal for within-network\n",
    "  \n",
    "  return(mean(as.numeric(network_data), na.rm=TRUE))\n",
    "}\n",
    "\n",
    "# Process CSV files\n",
    "results <- data.frame(Subject = character(), Network_Pair = character(), Avg_Correlation = numeric())\n",
    "\n",
    "for (file in list.files(folder_path, pattern = \"*.csv\", full.names = TRUE)) {\n",
    "  data <- read.csv(file, row.names = 1, check.names = FALSE, stringsAsFactors = FALSE)\n",
    "  \n",
    "  # Clean row and column names\n",
    "  rownames(data) <- clean_names(rownames(data))\n",
    "  colnames(data) <- clean_names(colnames(data))\n",
    "  \n",
    "  # data to numeric\n",
    "  data <- as.matrix(data)\n",
    "  data[] <- as.numeric(data)\n",
    "  \n",
    "  # subject ID from filename\n",
    "  subject_id <- gsub(\".*/|\\\\.csv\", \"\", file)\n",
    "  \n",
    "  # within-network correlations\n",
    "  for (name in names(networks)) {\n",
    "    results <- rbind(results, data.frame(\n",
    "      Subject = subject_id,\n",
    "      Network_Pair = name,  \n",
    "      Avg_Correlation = calculate_mean_correlation(data, networks[[name]])\n",
    "    ))\n",
    "  }\n",
    "  \n",
    "  # between-network correlations\n",
    "  network_pairs <- list(c(\"Math\", \"Motor\"), c(\"Math\", \"Language\"), c(\"Language\", \"Motor\"))\n",
    "  for (pair in network_pairs) {\n",
    "    results <- rbind(results, data.frame(\n",
    "      Subject = subject_id,\n",
    "      Network_Pair = paste(pair[1], \"-\", pair[2]), \n",
    "      Avg_Correlation = calculate_mean_correlation(data, networks[[pair[1]]], networks[[pair[2]]])\n",
    "    ))\n",
    "  }\n",
    "}\n",
    "\n",
    "# Remove NA rows\n",
    "results <- na.omit(results)\n",
    "\n",
    "# Convert Network_Pair to a factor with specified order\n",
    "results$Network_Pair <- factor(results$Network_Pair, levels = ordered_pairs)\n",
    "head(results)"
   ]
  },
  {
   "cell_type": "markdown",
   "id": "5266e87b-615c-4318-b5b0-e47e41ec681f",
   "metadata": {},
   "source": [
    "#### 6-7. Merge average correlation data frame with PSVT:R data "
   ]
  },
  {
   "cell_type": "code",
   "execution_count": 10,
   "id": "9dee7b66-3752-4a9c-9368-f7c251affc65",
   "metadata": {},
   "outputs": [],
   "source": [
    "behavior_data <- read.csv(\"C:/Users/egacetta/Downloads/RotVid FuncConn subject data - FuncConn ID+PSVTR (1).csv\")\n",
    "\n",
    "behavior_data <- behavior_data %>%\n",
    "  dplyr::select(Subject = FuncConn.ID, PSVT.R.Score) %>%\n",
    "  drop_na() %>%\n",
    "  mutate(Subject = as.character(Subject))  \n",
    "results <- results %>%\n",
    "  mutate(Subject_Num = gsub(\"Subject(\\\\d+)_.*\", \"\\\\1\", Subject),\n",
    "         Subject_Num = as.character(Subject_Num))  # now character like behavior_data$Subject\n",
    "\n",
    "merged_data <- results %>%\n",
    "  left_join(behavior_data, by = c(\"Subject_Num\" = \"Subject\"))\n",
    "\n",
    "merged_data <- merged_data %>%\n",
    "  select(-Subject_Num)"
   ]
  },
  {
   "cell_type": "markdown",
   "id": "ae1805e6-e799-4a69-ba1c-728a4e85f99f",
   "metadata": {},
   "source": [
    "### Final Resulting Tidy Data"
   ]
  },
  {
   "cell_type": "code",
   "execution_count": 9,
   "id": "3175134a-ff05-47cc-83ab-0c09be075a2e",
   "metadata": {},
   "outputs": [
    {
     "data": {
      "text/html": [
       "<table class=\"dataframe\">\n",
       "<caption>A data.frame: 6 × 4</caption>\n",
       "<thead>\n",
       "\t<tr><th></th><th scope=col>Subject</th><th scope=col>Network_Pair</th><th scope=col>Avg_Correlation</th><th scope=col>PSVT.R.Score</th></tr>\n",
       "\t<tr><th></th><th scope=col>&lt;chr&gt;</th><th scope=col>&lt;fct&gt;</th><th scope=col>&lt;dbl&gt;</th><th scope=col>&lt;int&gt;</th></tr>\n",
       "</thead>\n",
       "<tbody>\n",
       "\t<tr><th scope=row>1</th><td>Subject1_Run1_FuncConn_Complex_VOI_CorrelationMatrix</td><td>Language        </td><td>0.4948735</td><td>22</td></tr>\n",
       "\t<tr><th scope=row>2</th><td>Subject1_Run1_FuncConn_Complex_VOI_CorrelationMatrix</td><td>Motor           </td><td>0.8131573</td><td>22</td></tr>\n",
       "\t<tr><th scope=row>3</th><td>Subject1_Run1_FuncConn_Complex_VOI_CorrelationMatrix</td><td>Math            </td><td>0.9184504</td><td>22</td></tr>\n",
       "\t<tr><th scope=row>4</th><td>Subject1_Run1_FuncConn_Complex_VOI_CorrelationMatrix</td><td>Math - Motor    </td><td>0.8460717</td><td>22</td></tr>\n",
       "\t<tr><th scope=row>5</th><td>Subject1_Run1_FuncConn_Complex_VOI_CorrelationMatrix</td><td>Math - Language </td><td>0.4817618</td><td>22</td></tr>\n",
       "\t<tr><th scope=row>6</th><td>Subject1_Run1_FuncConn_Complex_VOI_CorrelationMatrix</td><td>Language - Motor</td><td>0.4846591</td><td>22</td></tr>\n",
       "</tbody>\n",
       "</table>\n"
      ],
      "text/latex": [
       "A data.frame: 6 × 4\n",
       "\\begin{tabular}{r|llll}\n",
       "  & Subject & Network\\_Pair & Avg\\_Correlation & PSVT.R.Score\\\\\n",
       "  & <chr> & <fct> & <dbl> & <int>\\\\\n",
       "\\hline\n",
       "\t1 & Subject1\\_Run1\\_FuncConn\\_Complex\\_VOI\\_CorrelationMatrix & Language         & 0.4948735 & 22\\\\\n",
       "\t2 & Subject1\\_Run1\\_FuncConn\\_Complex\\_VOI\\_CorrelationMatrix & Motor            & 0.8131573 & 22\\\\\n",
       "\t3 & Subject1\\_Run1\\_FuncConn\\_Complex\\_VOI\\_CorrelationMatrix & Math             & 0.9184504 & 22\\\\\n",
       "\t4 & Subject1\\_Run1\\_FuncConn\\_Complex\\_VOI\\_CorrelationMatrix & Math - Motor     & 0.8460717 & 22\\\\\n",
       "\t5 & Subject1\\_Run1\\_FuncConn\\_Complex\\_VOI\\_CorrelationMatrix & Math - Language  & 0.4817618 & 22\\\\\n",
       "\t6 & Subject1\\_Run1\\_FuncConn\\_Complex\\_VOI\\_CorrelationMatrix & Language - Motor & 0.4846591 & 22\\\\\n",
       "\\end{tabular}\n"
      ],
      "text/markdown": [
       "\n",
       "A data.frame: 6 × 4\n",
       "\n",
       "| <!--/--> | Subject &lt;chr&gt; | Network_Pair &lt;fct&gt; | Avg_Correlation &lt;dbl&gt; | PSVT.R.Score &lt;int&gt; |\n",
       "|---|---|---|---|---|\n",
       "| 1 | Subject1_Run1_FuncConn_Complex_VOI_CorrelationMatrix | Language         | 0.4948735 | 22 |\n",
       "| 2 | Subject1_Run1_FuncConn_Complex_VOI_CorrelationMatrix | Motor            | 0.8131573 | 22 |\n",
       "| 3 | Subject1_Run1_FuncConn_Complex_VOI_CorrelationMatrix | Math             | 0.9184504 | 22 |\n",
       "| 4 | Subject1_Run1_FuncConn_Complex_VOI_CorrelationMatrix | Math - Motor     | 0.8460717 | 22 |\n",
       "| 5 | Subject1_Run1_FuncConn_Complex_VOI_CorrelationMatrix | Math - Language  | 0.4817618 | 22 |\n",
       "| 6 | Subject1_Run1_FuncConn_Complex_VOI_CorrelationMatrix | Language - Motor | 0.4846591 | 22 |\n",
       "\n"
      ],
      "text/plain": [
       "  Subject                                              Network_Pair    \n",
       "1 Subject1_Run1_FuncConn_Complex_VOI_CorrelationMatrix Language        \n",
       "2 Subject1_Run1_FuncConn_Complex_VOI_CorrelationMatrix Motor           \n",
       "3 Subject1_Run1_FuncConn_Complex_VOI_CorrelationMatrix Math            \n",
       "4 Subject1_Run1_FuncConn_Complex_VOI_CorrelationMatrix Math - Motor    \n",
       "5 Subject1_Run1_FuncConn_Complex_VOI_CorrelationMatrix Math - Language \n",
       "6 Subject1_Run1_FuncConn_Complex_VOI_CorrelationMatrix Language - Motor\n",
       "  Avg_Correlation PSVT.R.Score\n",
       "1 0.4948735       22          \n",
       "2 0.8131573       22          \n",
       "3 0.9184504       22          \n",
       "4 0.8460717       22          \n",
       "5 0.4817618       22          \n",
       "6 0.4846591       22          "
      ]
     },
     "metadata": {},
     "output_type": "display_data"
    }
   ],
   "source": [
    "head(merged_data)"
   ]
  },
  {
   "cell_type": "markdown",
   "id": "083927fb-b52b-4119-aa68-c9d97091ae6a",
   "metadata": {},
   "source": [
    "## Statistical Analyses"
   ]
  },
  {
   "cell_type": "markdown",
   "id": "f3356a12-428e-4201-9c6e-4886e86f0e3a",
   "metadata": {},
   "source": [
    "### Linear Regression Model\n",
    "$$\n",
    "\\text{Avg\\_Correlation}_{ij} = \\beta_0 + \\beta_1 \\cdot \\text{PSVT.R.Score}_{ij} + \\beta_2 \\cdot \\text{Network\\_Pair}_{ij} + \\epsilon_{ij}\n",
    "$$\n",
    "\n",
    "- $ \\text{Avg\\_Correlation}_{ij} $: Average functional connectivity $i$ in subject $j$\n",
    "- $ \\text{PSVT.R.Score}_{ij} $: Spatial ability score\n",
    "- $ \\text{Network\\_Pair}_{ij} $: Functional Network\n",
    "- $ \\beta_0 $: Intercept (baseline connectivity)\n",
    "- $ \\beta_1, \\beta_2 $: Fixed effect coefficients\n",
    "- $ \\epsilon_{ij} \\sim \\mathcal{N}(0, \\sigma^2) $: Residual error term\n",
    "\n",
    "A linear regression model was conducted to examine interaction effects between PSVT:R score and a specific Network to the relationship with the strength of the functional connectivity.\n",
    "This provides information regarding the following questions:\n",
    " 1. Is there a general relationship between spatial ability and functional connectivity across all networks?\n",
    "\n",
    " 2. Are there baseline differences in functional connectivity across networks?\n",
    "\n",
    " 3. Does the strength of the effect of PSVT:R score change depending on the network?"
   ]
  },
  {
   "cell_type": "code",
   "execution_count": 11,
   "id": "b3e0b839-e088-4bad-bf30-b6511a18c469",
   "metadata": {},
   "outputs": [
    {
     "data": {
      "text/plain": [
       "\n",
       "Call:\n",
       "lm(formula = Avg_Correlation ~ PSVT.R.Score * Network_Pair, data = merged_data)\n",
       "\n",
       "Residuals:\n",
       "     Min       1Q   Median       3Q      Max \n",
       "-0.40379 -0.07918  0.01744  0.07908  0.42056 \n",
       "\n",
       "Coefficients:\n",
       "                                            Estimate Std. Error t value\n",
       "(Intercept)                                0.3107844  0.0758662   4.096\n",
       "PSVT.R.Score                               0.0062052  0.0032866   1.888\n",
       "Network_PairMotor                          0.3517685  0.1072910   3.279\n",
       "Network_PairMath                           0.5292127  0.1072910   4.932\n",
       "Network_PairMath - Motor                   0.2760261  0.1072910   2.573\n",
       "Network_PairMath - Language                0.0134767  0.1072910   0.126\n",
       "Network_PairLanguage - Motor               0.0269336  0.1072910   0.251\n",
       "PSVT.R.Score:Network_PairMotor            -0.0030405  0.0046479  -0.654\n",
       "PSVT.R.Score:Network_PairMath             -0.0052043  0.0046479  -1.120\n",
       "PSVT.R.Score:Network_PairMath - Motor     -0.0007649  0.0046479  -0.165\n",
       "PSVT.R.Score:Network_PairMath - Language  -0.0009439  0.0046479  -0.203\n",
       "PSVT.R.Score:Network_PairLanguage - Motor -0.0026838  0.0046479  -0.577\n",
       "                                          Pr(>|t|)    \n",
       "(Intercept)                                5.1e-05 ***\n",
       "PSVT.R.Score                               0.05976 .  \n",
       "Network_PairMotor                          0.00114 ** \n",
       "Network_PairMath                           1.2e-06 ***\n",
       "Network_PairMath - Motor                   0.01046 *  \n",
       "Network_PairMath - Language                0.90011    \n",
       "Network_PairLanguage - Motor               0.80192    \n",
       "PSVT.R.Score:Network_PairMotor             0.51340    \n",
       "PSVT.R.Score:Network_PairMath              0.26353    \n",
       "PSVT.R.Score:Network_PairMath - Motor      0.86938    \n",
       "PSVT.R.Score:Network_PairMath - Language   0.83917    \n",
       "PSVT.R.Score:Network_PairLanguage - Motor  0.56399    \n",
       "---\n",
       "Signif. codes:  0 '***' 0.001 '**' 0.01 '*' 0.05 '.' 0.1 ' ' 1\n",
       "\n",
       "Residual standard error: 0.1361 on 390 degrees of freedom\n",
       "Multiple R-squared:  0.6284,\tAdjusted R-squared:  0.6179 \n",
       "F-statistic: 59.96 on 11 and 390 DF,  p-value: < 2.2e-16\n"
      ]
     },
     "metadata": {},
     "output_type": "display_data"
    }
   ],
   "source": [
    "network_model <- lm(Avg_Correlation ~ PSVT.R.Score * Network_Pair, data = merged_data)\n",
    "summary(network_model)"
   ]
  },
  {
   "cell_type": "code",
   "execution_count": 23,
   "id": "ca3238a2-4a7b-4639-a7ed-6886087ffc13",
   "metadata": {},
   "outputs": [
    {
     "name": "stderr",
     "output_type": "stream",
     "text": [
      "\u001b[1m\u001b[22m`geom_smooth()` using formula = 'y ~ x'\n"
     ]
    },
    {
     "data": {
      "image/png": "[encoded data removed]",
      "text/plain": [
       "plot without title"
      ]
     },
     "metadata": {
      "image/png": {
       "height": 420,
       "width": 420
      }
     },
     "output_type": "display_data"
    }
   ],
   "source": [
    "sig_networks <- c(\"Motor\", \"Math\", \"Math - Motor\")\n",
    "merged_data <- merged_data %>%\n",
    "  mutate(Significant = ifelse(Network_Pair %in% sig_networks, \"Yes\", \"No\"))\n",
    "\n",
    "library(ggplot2)\n",
    "\n",
    "ggplot(merged_data, aes(x = PSVT.R.Score, y = Avg_Correlation)) +\n",
    "  geom_point(alpha = 0.5, size = 1.5, color = 'blue') +\n",
    "  geom_smooth(aes(color = Significant), method = \"lm\", se = FALSE, linewidth = 1.3) +\n",
    "  scale_color_manual(values = c(\"Yes\" = \"red\", \"No\" = \"black\")) +\n",
    "  facet_wrap(~ Network_Pair, scales = \"free_y\", ncol = 2) +\n",
    "  labs(\n",
    "    title = \"PSVT:R Score × Network Effects on Connectivity Strength\",\n",
    "    x = \"PSVT:R Score\",\n",
    "    y = \"Functional Connectivity\",\n",
    "    color = \"Significant\"\n",
    "  ) +\n",
    "  theme_minimal() +\n",
    "  theme(\n",
    "    strip.text = element_text(size = 13, face = \"bold\", color = \"black\"),\n",
    "    legend.position = \"top\",\n",
    "    plot.title = element_text(face = \"bold\", size = 15, hjust = 0.5), \n",
    "    axis.title.x = element_text(face = \"bold\", size = 13), \n",
    "    axis.title.y = element_text(face = \"bold\", size = 13),\n",
    "    axis.text.x = element_text(color = \"black\"),\n",
    "    axis.text.y = element_text(color = \"black\")\n",
    "  )\n"
   ]
  },
  {
   "cell_type": "markdown",
   "id": "22a6416b-9bf5-4942-90b3-199895fae752",
   "metadata": {},
   "source": [
    "The results of this linear regression demonstrate that there are no interaction effects between spatial skill ability (PSVT:R score) and the network on the strength of functional connectivity in the network, meaning that the effect of PSVT:R score does not change depending on the network. \n",
    "There are highly significant, positive main effects of the Math network*** ($\\beta$ = 0.53, p < 0.001), Motor network** ($\\beta$ = 0.35, p = 0.001), and Math-Motor network* ($\\beta$ = 0.28, p = 0.01), which is something that was focused on in the exploratory analysis due to the previous research demonstating the Math network (IPS regions) and Motor network (premotor regions) being involved during specific mental rotation tasks. This shows that the same regions involved in spatial visualization are significantly functionally connected to each other during spatial learning in a naturalistic setting. It is also important to note that the Language network has no significant functional connections, which emphasizes that the Math and Motor regions are specifically involved in spatial learning rather than general networks being involved."
   ]
  },
  {
   "cell_type": "markdown",
   "id": "2b8334c3-e211-4a43-a2e7-ba355cbec4fc",
   "metadata": {},
   "source": [
    "### Mixed effects models of within and between networks \n",
    "\n",
    "$$\n",
    "\\text{Avg\\_Correlation}_{ij} = \\beta_0 + \\beta_1 \\cdot \\text{PSVT.R.Score}_{ij} + \\beta_2 \\cdot \\text{Network\\_Pair}_{ij} + \\beta_3 \\cdot (\\text{PSVT.R.Score} \\times \\text{Network\\_Pair})_{ij} + u_{0j} + \\epsilon_{ij}\n",
    "$$\n",
    "\n",
    "- $ \\text{Avg\\_Correlation}_{ij} $: Average functional connectivity $i$ in subject $j$\n",
    "- $ \\text{PSVT.R.Score}_{ij} $: PSVT:R Score (spatial ability) $i$ in subject $j$\n",
    "- $ \\text{Network\\_Pair}_{ij} $: Functional Network \n",
    "- $ u_{0j} $: Subject random intercept, where $ u_{0j} \\sim \\mathcal{N}(0, \\sigma_u^2) $\n",
    "- $ \\epsilon_{ij} $: Residual error term, $ \\sim \\mathcal{N}(0, \\sigma^2) $\n",
    "\n",
    "Due to each individual subject having measures for multiple networks, a mixed effects model accounts for the repeated measures when a linear regression may violate iid. It also takes into account subject differences by using intercept as a random effect variable. This allows for potential differences between each subject in baseline connectivity levels to be controlled. "
   ]
  },
  {
   "cell_type": "markdown",
   "id": "d22373fb-0241-4857-a6b9-18e6a5a31cce",
   "metadata": {},
   "source": [
    "#### Confirm factoring of network pair & view data"
   ]
  },
  {
   "cell_type": "code",
   "execution_count": 26,
   "id": "348875d2-07b3-4d68-bdfc-942c6174f7d5",
   "metadata": {},
   "outputs": [
    {
     "data": {
      "text/html": [
       "<table class=\"dataframe\">\n",
       "<caption>A data.frame: 6 × 5</caption>\n",
       "<thead>\n",
       "\t<tr><th></th><th scope=col>Subject</th><th scope=col>Network_Pair</th><th scope=col>Avg_Correlation</th><th scope=col>PSVT.R.Score</th><th scope=col>Significant</th></tr>\n",
       "\t<tr><th></th><th scope=col>&lt;chr&gt;</th><th scope=col>&lt;fct&gt;</th><th scope=col>&lt;dbl&gt;</th><th scope=col>&lt;int&gt;</th><th scope=col>&lt;chr&gt;</th></tr>\n",
       "</thead>\n",
       "<tbody>\n",
       "\t<tr><th scope=row>1</th><td>Subject1_Run1_FuncConn_Complex_VOI_CorrelationMatrix</td><td>Language        </td><td>0.4948735</td><td>22</td><td>No </td></tr>\n",
       "\t<tr><th scope=row>2</th><td>Subject1_Run1_FuncConn_Complex_VOI_CorrelationMatrix</td><td>Motor           </td><td>0.8131573</td><td>22</td><td>Yes</td></tr>\n",
       "\t<tr><th scope=row>3</th><td>Subject1_Run1_FuncConn_Complex_VOI_CorrelationMatrix</td><td>Math            </td><td>0.9184504</td><td>22</td><td>Yes</td></tr>\n",
       "\t<tr><th scope=row>4</th><td>Subject1_Run1_FuncConn_Complex_VOI_CorrelationMatrix</td><td>Math - Motor    </td><td>0.8460717</td><td>22</td><td>Yes</td></tr>\n",
       "\t<tr><th scope=row>5</th><td>Subject1_Run1_FuncConn_Complex_VOI_CorrelationMatrix</td><td>Math - Language </td><td>0.4817618</td><td>22</td><td>No </td></tr>\n",
       "\t<tr><th scope=row>6</th><td>Subject1_Run1_FuncConn_Complex_VOI_CorrelationMatrix</td><td>Language - Motor</td><td>0.4846591</td><td>22</td><td>No </td></tr>\n",
       "</tbody>\n",
       "</table>\n"
      ],
      "text/latex": [
       "A data.frame: 6 × 5\n",
       "\\begin{tabular}{r|lllll}\n",
       "  & Subject & Network\\_Pair & Avg\\_Correlation & PSVT.R.Score & Significant\\\\\n",
       "  & <chr> & <fct> & <dbl> & <int> & <chr>\\\\\n",
       "\\hline\n",
       "\t1 & Subject1\\_Run1\\_FuncConn\\_Complex\\_VOI\\_CorrelationMatrix & Language         & 0.4948735 & 22 & No \\\\\n",
       "\t2 & Subject1\\_Run1\\_FuncConn\\_Complex\\_VOI\\_CorrelationMatrix & Motor            & 0.8131573 & 22 & Yes\\\\\n",
       "\t3 & Subject1\\_Run1\\_FuncConn\\_Complex\\_VOI\\_CorrelationMatrix & Math             & 0.9184504 & 22 & Yes\\\\\n",
       "\t4 & Subject1\\_Run1\\_FuncConn\\_Complex\\_VOI\\_CorrelationMatrix & Math - Motor     & 0.8460717 & 22 & Yes\\\\\n",
       "\t5 & Subject1\\_Run1\\_FuncConn\\_Complex\\_VOI\\_CorrelationMatrix & Math - Language  & 0.4817618 & 22 & No \\\\\n",
       "\t6 & Subject1\\_Run1\\_FuncConn\\_Complex\\_VOI\\_CorrelationMatrix & Language - Motor & 0.4846591 & 22 & No \\\\\n",
       "\\end{tabular}\n"
      ],
      "text/markdown": [
       "\n",
       "A data.frame: 6 × 5\n",
       "\n",
       "| <!--/--> | Subject &lt;chr&gt; | Network_Pair &lt;fct&gt; | Avg_Correlation &lt;dbl&gt; | PSVT.R.Score &lt;int&gt; | Significant &lt;chr&gt; |\n",
       "|---|---|---|---|---|---|\n",
       "| 1 | Subject1_Run1_FuncConn_Complex_VOI_CorrelationMatrix | Language         | 0.4948735 | 22 | No  |\n",
       "| 2 | Subject1_Run1_FuncConn_Complex_VOI_CorrelationMatrix | Motor            | 0.8131573 | 22 | Yes |\n",
       "| 3 | Subject1_Run1_FuncConn_Complex_VOI_CorrelationMatrix | Math             | 0.9184504 | 22 | Yes |\n",
       "| 4 | Subject1_Run1_FuncConn_Complex_VOI_CorrelationMatrix | Math - Motor     | 0.8460717 | 22 | Yes |\n",
       "| 5 | Subject1_Run1_FuncConn_Complex_VOI_CorrelationMatrix | Math - Language  | 0.4817618 | 22 | No  |\n",
       "| 6 | Subject1_Run1_FuncConn_Complex_VOI_CorrelationMatrix | Language - Motor | 0.4846591 | 22 | No  |\n",
       "\n"
      ],
      "text/plain": [
       "  Subject                                              Network_Pair    \n",
       "1 Subject1_Run1_FuncConn_Complex_VOI_CorrelationMatrix Language        \n",
       "2 Subject1_Run1_FuncConn_Complex_VOI_CorrelationMatrix Motor           \n",
       "3 Subject1_Run1_FuncConn_Complex_VOI_CorrelationMatrix Math            \n",
       "4 Subject1_Run1_FuncConn_Complex_VOI_CorrelationMatrix Math - Motor    \n",
       "5 Subject1_Run1_FuncConn_Complex_VOI_CorrelationMatrix Math - Language \n",
       "6 Subject1_Run1_FuncConn_Complex_VOI_CorrelationMatrix Language - Motor\n",
       "  Avg_Correlation PSVT.R.Score Significant\n",
       "1 0.4948735       22           No         \n",
       "2 0.8131573       22           Yes        \n",
       "3 0.9184504       22           Yes        \n",
       "4 0.8460717       22           Yes        \n",
       "5 0.4817618       22           No         \n",
       "6 0.4846591       22           No         "
      ]
     },
     "metadata": {},
     "output_type": "display_data"
    }
   ],
   "source": [
    "data_factored <- merged_data %>%\n",
    "mutate(\n",
    "    Network_Pair = factor(Network_Pair))\n",
    "head(data_factored)"
   ]
  },
  {
   "cell_type": "code",
   "execution_count": 27,
   "id": "796eff0d-17f6-4916-954d-31e75893936b",
   "metadata": {},
   "outputs": [
    {
     "data": {
      "text/plain": [
       "Linear mixed model fit by REML. t-tests use Satterthwaite's method [\n",
       "lmerModLmerTest]\n",
       "Formula: Avg_Correlation ~ PSVT.R.Score * Network_Pair + (1 | Subject)\n",
       "   Data: data_factored\n",
       "\n",
       "REML criterion at convergence: -531.1\n",
       "\n",
       "Scaled residuals: \n",
       "     Min       1Q   Median       3Q      Max \n",
       "-2.82211 -0.62893 -0.00264  0.62045  2.32530 \n",
       "\n",
       "Random effects:\n",
       " Groups   Name        Variance Std.Dev.\n",
       " Subject  (Intercept) 0.009530 0.09762 \n",
       " Residual             0.008992 0.09482 \n",
       "Number of obs: 402, groups:  Subject, 67\n",
       "\n",
       "Fixed effects:\n",
       "                                            Estimate Std. Error         df\n",
       "(Intercept)                                3.108e-01  7.587e-02  1.678e+02\n",
       "PSVT.R.Score                               6.205e-03  3.287e-03  1.678e+02\n",
       "Network_PairMotor                          3.518e-01  7.475e-02  3.250e+02\n",
       "Network_PairMath                           5.292e-01  7.475e-02  3.250e+02\n",
       "Network_PairMath - Motor                   2.760e-01  7.475e-02  3.250e+02\n",
       "Network_PairMath - Language                1.348e-02  7.475e-02  3.250e+02\n",
       "Network_PairLanguage - Motor               2.693e-02  7.475e-02  3.250e+02\n",
       "PSVT.R.Score:Network_PairMotor            -3.040e-03  3.238e-03  3.250e+02\n",
       "PSVT.R.Score:Network_PairMath             -5.204e-03  3.238e-03  3.250e+02\n",
       "PSVT.R.Score:Network_PairMath - Motor     -7.649e-04  3.238e-03  3.250e+02\n",
       "PSVT.R.Score:Network_PairMath - Language  -9.439e-04  3.238e-03  3.250e+02\n",
       "PSVT.R.Score:Network_PairLanguage - Motor -2.684e-03  3.238e-03  3.250e+02\n",
       "                                          t value Pr(>|t|)    \n",
       "(Intercept)                                 4.096 6.51e-05 ***\n",
       "PSVT.R.Score                                1.888  0.06075 .  \n",
       "Network_PairMotor                           4.706 3.75e-06 ***\n",
       "Network_PairMath                            7.079 8.98e-12 ***\n",
       "Network_PairMath - Motor                    3.692  0.00026 ***\n",
       "Network_PairMath - Language                 0.180  0.85705    \n",
       "Network_PairLanguage - Motor                0.360  0.71886    \n",
       "PSVT.R.Score:Network_PairMotor             -0.939  0.34850    \n",
       "PSVT.R.Score:Network_PairMath              -1.607  0.10901    \n",
       "PSVT.R.Score:Network_PairMath - Motor      -0.236  0.81344    \n",
       "PSVT.R.Score:Network_PairMath - Language   -0.291  0.77087    \n",
       "PSVT.R.Score:Network_PairLanguage - Motor  -0.829  0.40786    \n",
       "---\n",
       "Signif. codes:  0 '***' 0.001 '**' 0.01 '*' 0.05 '.' 0.1 ' ' 1\n",
       "\n",
       "Correlation of Fixed Effects:\n",
       "                       (Intr) PSVT.R.Sc Ntwrk_PrMtr Ntwrk_PrMth N_PM-M N_PM-L\n",
       "PSVT.R.Scor            -0.976                                                \n",
       "Ntwrk_PrMtr            -0.493  0.481                                         \n",
       "Ntwrk_PrMth            -0.493  0.481     0.500                               \n",
       "Ntwrk_PrM-M            -0.493  0.481     0.500       0.500                   \n",
       "Ntwrk_PrM-L            -0.493  0.481     0.500       0.500       0.500       \n",
       "Ntwrk_PrL-M            -0.493  0.481     0.500       0.500       0.500  0.500\n",
       "PSVT.R.Scr:Ntwrk_PrMtr  0.481 -0.493    -0.976      -0.488      -0.488 -0.488\n",
       "PSVT.R.Scr:Ntwrk_PrMth  0.481 -0.493    -0.488      -0.976      -0.488 -0.488\n",
       "PSVT.R.S:N_PM-M         0.481 -0.493    -0.488      -0.488      -0.976 -0.488\n",
       "PSVT.R.S:-L             0.481 -0.493    -0.488      -0.488      -0.488 -0.976\n",
       "PSVT.R.S:N_PL-M         0.481 -0.493    -0.488      -0.488      -0.488 -0.488\n",
       "                       N_PL-M PSVT.R.Scr:Ntwrk_PrMtr PSVT.R.Scr:Ntwrk_PrMth\n",
       "PSVT.R.Scor                                                                \n",
       "Ntwrk_PrMtr                                                                \n",
       "Ntwrk_PrMth                                                                \n",
       "Ntwrk_PrM-M                                                                \n",
       "Ntwrk_PrM-L                                                                \n",
       "Ntwrk_PrL-M                                                                \n",
       "PSVT.R.Scr:Ntwrk_PrMtr -0.488                                              \n",
       "PSVT.R.Scr:Ntwrk_PrMth -0.488  0.500                                       \n",
       "PSVT.R.S:N_PM-M        -0.488  0.500                  0.500                \n",
       "PSVT.R.S:-L            -0.488  0.500                  0.500                \n",
       "PSVT.R.S:N_PL-M        -0.976  0.500                  0.500                \n",
       "                       PSVT.R.S:N_PM-M PSVT-L\n",
       "PSVT.R.Scor                                  \n",
       "Ntwrk_PrMtr                                  \n",
       "Ntwrk_PrMth                                  \n",
       "Ntwrk_PrM-M                                  \n",
       "Ntwrk_PrM-L                                  \n",
       "Ntwrk_PrL-M                                  \n",
       "PSVT.R.Scr:Ntwrk_PrMtr                       \n",
       "PSVT.R.Scr:Ntwrk_PrMth                       \n",
       "PSVT.R.S:N_PM-M                              \n",
       "PSVT.R.S:-L             0.500                \n",
       "PSVT.R.S:N_PL-M         0.500           0.500"
      ]
     },
     "metadata": {},
     "output_type": "display_data"
    }
   ],
   "source": [
    "library(lme4)\n",
    "library(lmerTest)\n",
    "\n",
    "network_mixed_model <- lmer(Avg_Correlation ~ PSVT.R.Score * Network_Pair + (1 | Subject), data = data_factored)\n",
    "summary(network_mixed_model)"
   ]
  },
  {
   "cell_type": "code",
   "execution_count": 29,
   "id": "c01f138b-344a-4955-943a-b37857b31021",
   "metadata": {},
   "outputs": [
    {
     "name": "stderr",
     "output_type": "stream",
     "text": [
      "\u001b[1m\u001b[22m`geom_smooth()` using formula = 'y ~ x'\n"
     ]
    },
    {
     "data": {
      "image/png": "[encoded data removed]",
      "text/plain": [
       "plot without title"
      ]
     },
     "metadata": {
      "image/png": {
       "height": 420,
       "width": 420
      }
     },
     "output_type": "display_data"
    }
   ],
   "source": [
    "sig_networks <- c(\"Motor\", \"Math\", \"Math - Motor\")\n",
    "\n",
    "data_factored <- data_factored %>%\n",
    "  mutate(Significant = ifelse(Network_Pair %in% sig_networks, \"Yes\", \"No\"))\n",
    "\n",
    "ggplot(data_factored, aes(x = PSVT.R.Score, y = Avg_Correlation)) +\n",
    "  geom_point(alpha = 0.5, color = 'blue') +\n",
    "  geom_smooth(aes(color = Significant), method = \"lm\", se = FALSE) +\n",
    "  facet_wrap(~ Network_Pair, scales = \"free_y\", ncol = 2) +\n",
    "  scale_color_manual(values = c(\"Yes\" = \"red\", \"No\" = \"black\")) +\n",
    "  labs(\n",
    "    title = \"Mixed-Effects PSVT:R Score*Network vs Connectivity Strength\",\n",
    "    x = \"PSVT:R Score\",\n",
    "    y = \"Functional Connectivity\",\n",
    "    color = \"Significant\"\n",
    "  ) + \n",
    "  theme_minimal() + \n",
    "  theme(\n",
    "    strip.text = element_text(size = 13, face = \"bold\", color = \"black\"),\n",
    "    legend.position = \"top\",\n",
    "    plot.title = element_text(face = \"bold\", size = 15, hjust = 0.5), \n",
    "    axis.title.x = element_text(face = \"bold\", size = 13), \n",
    "    axis.title.y = element_text(face = \"bold\", size = 13),\n",
    "    axis.text.x = element_text(color = \"black\"),\n",
    "    axis.text.y = element_text(color = \"black\")\n",
    "  )"
   ]
  },
  {
   "cell_type": "markdown",
   "id": "98e83b21-9f68-4015-ac6b-d219a04b027b",
   "metadata": {},
   "source": [
    "The subject (intercept) has a significant p-value (p < 0.001) meaning that subjects do differ in their baseline functional connectivity strength (however, as of this model there is no inferential statistic which leads to the next follow-up test of AIC). This demonstrates variability between the subjects and therefore potentially necessary to include a mixed-effects model. The same networks that appear as significant in the normal linear regression model appear significant in the mixed-effects model. However, the effect sizes of the networks are much stronger with a mixed-effects model (p < 0.001), while maintaining the same order of strength (Math > Motor > Math-Motor). Further, the PSVT:R scores and interaction are still non-significant. The scatterplots demonstrate the strong relationships between the PSVT:R score and average connectivity of the math, motor, and math-motor networks (regression lines shown in red). "
   ]
  },
  {
   "cell_type": "markdown",
   "id": "759c72e8-ebd5-49b9-9a6f-f4a8ea037354",
   "metadata": {},
   "source": [
    "## Aikeke Information Criterion & Model Assessment \n",
    "#### Comparison of t-values "
   ]
  },
  {
   "cell_type": "code",
   "execution_count": 36,
   "id": "62512eda-c23a-4bb5-83ba-e02b3ec86e42",
   "metadata": {},
   "outputs": [
    {
     "data": {
      "image/png": "[encoded data removed]",
      "text/plain": [
       "plot without title"
      ]
     },
     "metadata": {
      "image/png": {
       "height": 420,
       "width": 420
      }
     },
     "output_type": "display_data"
    }
   ],
   "source": [
    "lm_tvals <- summary(network_model)$coefficients[, \"t value\"]\n",
    "lmer_tvals <- summary(network_mixed_model)$coefficients[, \"t value\"]\n",
    "\n",
    "compare_t <- data.frame(\n",
    "  Term = rownames(summary(network_model)$coefficients),\n",
    "  t_lm = lm_tvals,\n",
    "  t_lmer = lmer_tvals\n",
    ")\n",
    "\n",
    "compare_t_long <- pivot_longer(compare_t, cols = c(t_lm, t_lmer),\n",
    "                                names_to = \"Model\", values_to = \"t_value\")\n",
    "\n",
    "ggplot(compare_t_long, aes(x = t_value, y = Term, fill = Model)) +\n",
    "geom_col(position = position_dodge(width = 0.7), width = 0.6) +\n",
    "geom_vline(xintercept = 0, linetype = \"dashed\", color = \"black\") +\n",
    "labs(\n",
    "    title = \"Comparison of Model t-values\",\n",
    "    x = \"t-value\", y = NULL\n",
    "  ) +\n",
    "scale_fill_manual(values = c(\"t_lm\" = \"hotpink\", \"t_lmer\" = \"royalblue\")) +\n",
    "theme_minimal() + \n",
    "theme(\n",
    "    axis.text.x = element_text(face = \"bold\", color = \"black\", size = 12),\n",
    "    axis.text.y = element_text(face = \"bold\", color = \"black\", size = 12), \n",
    "    plot.title = element_text(face = \"bold\", hjust = 0.5, size = 14)\n",
    "    )\n"
   ]
  },
  {
   "cell_type": "markdown",
   "id": "ebe1bcb1-aed6-474b-a576-c66caca5e8c9",
   "metadata": {},
   "source": [
    "Based on the chart above, the t-values for the mixed effects model are larger almost always compared to those of the simple linear regression model, and all are for the main effects (which is where we see significance). This is most-likely due to the mixed-effects model accounting for subject variabilty. \n",
    "\n",
    "To compare the two models directly, an AIC model will evaluate if the more complex mixed-effects model generally provides a better fit because AIC takes complexity into account. \n",
    "### AIC "
   ]
  },
  {
   "cell_type": "code",
   "execution_count": 37,
   "id": "c5fc85ba-b8e8-48b6-850b-c9f7bfa68ea5",
   "metadata": {},
   "outputs": [
    {
     "data": {
      "text/html": [
       "<table class=\"dataframe\">\n",
       "<caption>A data.frame: 2 × 2</caption>\n",
       "<thead>\n",
       "\t<tr><th></th><th scope=col>df</th><th scope=col>AIC</th></tr>\n",
       "\t<tr><th></th><th scope=col>&lt;dbl&gt;</th><th scope=col>&lt;dbl&gt;</th></tr>\n",
       "</thead>\n",
       "<tbody>\n",
       "\t<tr><th scope=row>network_model</th><td>13</td><td>-448.8563</td></tr>\n",
       "\t<tr><th scope=row>network_mixed_model</th><td>14</td><td>-503.0530</td></tr>\n",
       "</tbody>\n",
       "</table>\n"
      ],
      "text/latex": [
       "A data.frame: 2 × 2\n",
       "\\begin{tabular}{r|ll}\n",
       "  & df & AIC\\\\\n",
       "  & <dbl> & <dbl>\\\\\n",
       "\\hline\n",
       "\tnetwork\\_model & 13 & -448.8563\\\\\n",
       "\tnetwork\\_mixed\\_model & 14 & -503.0530\\\\\n",
       "\\end{tabular}\n"
      ],
      "text/markdown": [
       "\n",
       "A data.frame: 2 × 2\n",
       "\n",
       "| <!--/--> | df &lt;dbl&gt; | AIC &lt;dbl&gt; |\n",
       "|---|---|---|\n",
       "| network_model | 13 | -448.8563 |\n",
       "| network_mixed_model | 14 | -503.0530 |\n",
       "\n"
      ],
      "text/plain": [
       "                    df AIC      \n",
       "network_model       13 -448.8563\n",
       "network_mixed_model 14 -503.0530"
      ]
     },
     "metadata": {},
     "output_type": "display_data"
    },
    {
     "data": {
      "text/html": [
       "-54.1966286668297"
      ],
      "text/latex": [
       "-54.1966286668297"
      ],
      "text/markdown": [
       "-54.1966286668297"
      ],
      "text/plain": [
       "[1] -54.19663"
      ]
     },
     "metadata": {},
     "output_type": "display_data"
    }
   ],
   "source": [
    "ic = AIC(network_model, network_mixed_model) \n",
    "ic \n",
    "\n",
    "diff(ic$AIC)"
   ]
  },
  {
   "cell_type": "markdown",
   "id": "a28f396c-9117-4e06-b422-2fe84185d78d",
   "metadata": {},
   "source": [
    "Since the mixed-effects model has a lower AIC than the simple model, it is the best model choice. This means that the mixed-effects model accounts for more variance in baseline subject intercept compared to the simple lienar model even after accounting for more complexity. This is expected because of the accounting for repeated measures from subjects, individual subject variability baseline connectivity.  "
   ]
  },
  {
   "cell_type": "markdown",
   "id": "7de2b2c9-f0a1-4c3a-ba39-bc543ab492fa",
   "metadata": {},
   "source": [
    "## Conclusions"
   ]
  },
  {
   "cell_type": "markdown",
   "id": "b23ed4c2-6d9b-4a90-a499-f70820e64f9e",
   "metadata": {},
   "source": [
    "This exploratory analysis of fMRI data regarding the functional connectivity of brain networks underlying spatial skill learning and ability revealed results that were not hypothesized, but somewhat expected based on previous literature and current findings of active regions during spatial skill tasks. An AIC test reinforced the use of a mixed-effects model to have a more powerful and accurate statistical analysis largely due to the repeated measures that occurs with data such as fMRI data and individual variability that gets taken into account. The results of the mixed-effects model show no significant interaction effects with a functional network and spatial ability score on the strength of the network, meaning that the spatial skills during learning do not effect how strong a network is or how it is connected to another network. However, there were main effects on network strength in the Math network, Motor network, and Math-Motor network. This demonstrates that those three networks (two within and one between) are functionally connected significantly during the spatial skill learning process. The results of this entire analysis imply that all people engage the same networks and regions during learning no matter their spatial ability. This provides a foundation to track in the second time point of testing to examine how learning may present neurally after training, and if spatial skills after will present a relationship.  "
   ]
  }
 ],
 "metadata": {
  "kernelspec": {
   "display_name": "R",
   "language": "R",
   "name": "ir"
  },
  "language_info": {
   "codemirror_mode": "r",
   "file_extension": ".r",
   "mimetype": "text/x-r-source",
   "name": "R",
   "pygments_lexer": "r",
   "version": "4.4.1"
  }
 },
 "nbformat": 4,
 "nbformat_minor": 5
}
